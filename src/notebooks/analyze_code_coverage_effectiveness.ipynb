{
  "cells": [
    {
      "cell_type": "markdown",
      "metadata": {
        "id": "dZ8TJfHrGW2S"
      },
      "source": [
        "# Effectiveness on Python code from popular open-source projects "
      ]
    },
    {
      "cell_type": "code",
      "execution_count": 138,
      "metadata": {
        "id": "NWC_ZXbMFRVF"
      },
      "outputs": [],
      "source": [
        "import pandas as pd\n",
        "import numpy as np\n",
        "import matplotlib.pyplot as plt"
      ]
    },
    {
      "cell_type": "markdown",
      "metadata": {
        "id": "UmogeAwHFHXs"
      },
      "source": [
        "## Random functions"
      ]
    },
    {
      "cell_type": "markdown",
      "metadata": {
        "id": "6M6ezyE8GKpU"
      },
      "source": [
        "Load Evaluation Data"
      ]
    },
    {
      "cell_type": "code",
      "execution_count": null,
      "metadata": {
        "id": "PMOQ6MjVCDFe"
      },
      "outputs": [],
      "source": [
        "random_functions_df = pd.read_csv('/metrics_popular_projects_function_bodies_dataset.csv')\n",
        "random_functions_df"
      ]
    },
    {
      "cell_type": "code",
      "execution_count": null,
      "metadata": {
        "id": "wWsQyyHdI9I4"
      },
      "outputs": [],
      "source": [
        "random_functions_total_lines_df = pd.read_csv('/total_lines_function_bodies_dataset.csv')\n",
        "random_functions_total_lines_df"
      ]
    },
    {
      "cell_type": "code",
      "execution_count": 142,
      "metadata": {
        "id": "9hofjFYjrTXn"
      },
      "outputs": [],
      "source": [
        "random_functions_As_Is_df = random_functions_df[random_functions_df['predictor'] == 'AsIs']\n",
        "files_with_results_As_Is = random_functions_As_Is_df.file.unique()\n",
        "files_without_results_As_Is = random_functions_total_lines_df[~random_functions_total_lines_df['file'].isin(files_with_results_As_Is)]\n",
        "\n",
        "random_functions_Naive_df = random_functions_df[random_functions_df['predictor'] == 'NaiveValuePredictor']\n",
        "files_with_results_Naive = random_functions_Naive_df.file.unique()\n",
        "files_without_results_Naive = random_functions_total_lines_df[~random_functions_total_lines_df['file'].isin(files_with_results_Naive)]\n",
        "\n",
        "random_functions_Random_df = random_functions_df[random_functions_df['predictor'] == 'RandomPredictor']\n",
        "files_with_results_Random = random_functions_Random_df.file.unique()\n",
        "files_without_results_Random = random_functions_total_lines_df[~random_functions_total_lines_df['file'].isin(files_with_results_Random)]\n",
        "\n",
        "random_functions_Frequency_df = random_functions_df[random_functions_df['predictor'] == 'FrequencyValuePredictor']\n",
        "files_with_results_Frequency = random_functions_Frequency_df.file.unique()\n",
        "files_without_results_Frequency = random_functions_total_lines_df[~random_functions_total_lines_df['file'].isin(files_with_results_Frequency)]\n",
        "\n",
        "random_functions_Fine_Grained_df = random_functions_df[random_functions_df['predictor'] == 'CodeT5ValuePredictor_fine_grained']\n",
        "files_with_results_Fine_Grained = random_functions_Fine_Grained_df.file.unique()\n",
        "files_without_results_Fine_Grained = random_functions_total_lines_df[~random_functions_total_lines_df['file'].isin(files_with_results_Fine_Grained)]\n",
        "\n",
        "\n",
        "random_functions_Deterministic_df = random_functions_df[random_functions_df['predictor'] == 'CodeT5ValuePredictor_coarse_grained_deterministic']\n",
        "files_with_results_Deterministic = random_functions_Deterministic_df.file.unique()\n",
        "files_without_results_Deterministic = random_functions_total_lines_df[~random_functions_total_lines_df['file'].isin(files_with_results_Deterministic)]\n",
        "\n",
        "random_functions_Randomized_df = random_functions_df[random_functions_df['predictor'] == 'CodeT5ValuePredictor_coarse_grained_randomized']\n",
        "files_with_results_Randomized = random_functions_Randomized_df.file.unique()\n",
        "files_without_results_Randomized = random_functions_total_lines_df[~random_functions_total_lines_df['file'].isin(files_with_results_Randomized)]\n",
        "\n",
        "random_functions_Pynguin_df = random_functions_df[random_functions_df['predictor'] == 'PynguinTests']\n",
        "files_with_results_Pynguin = random_functions_Pynguin_df.file.unique()\n",
        "files_without_results_Pynguin = random_functions_total_lines_df[~random_functions_total_lines_df['file'].isin(files_with_results_Pynguin)]"
      ]
    },
    {
      "cell_type": "code",
      "execution_count": null,
      "metadata": {
        "id": "eaXw9WBHuiha"
      },
      "outputs": [],
      "source": [
        "files_without_results_As_Is = files_without_results_As_Is\n",
        "files_without_results_As_Is['predictor'] = 'AsIs'\n",
        "files_without_results_As_Is['covered_iids'] = 0\n",
        "files_without_results_As_Is['total_uses'] = 0\n",
        "files_without_results_As_Is['guided_uses'] = 0\n",
        "files_without_results_As_Is['executed_lines'] = 0\n",
        "files_without_results_As_Is['covered_lines'] = 0\n",
        "files_without_results_As_Is['execution_time'] = 0\n",
        "\n",
        "files_without_results_Naive = files_without_results_Naive\n",
        "files_without_results_Naive['predictor'] = 'NaiveValuePredictor'\n",
        "files_without_results_Naive['covered_iids'] = 0\n",
        "files_without_results_Naive['total_uses'] = 0\n",
        "files_without_results_Naive['guided_uses'] = 0\n",
        "files_without_results_Naive['executed_lines'] = 0\n",
        "files_without_results_Naive['covered_lines'] = 0\n",
        "files_without_results_Naive['execution_time'] = 0\n",
        "\n",
        "files_without_results_Random = files_without_results_Random\n",
        "files_without_results_Random['predictor'] = 'RandomPredictor'\n",
        "files_without_results_Random['covered_iids'] = 0\n",
        "files_without_results_Random['total_uses'] = 0\n",
        "files_without_results_Random['guided_uses'] = 0\n",
        "files_without_results_Random['executed_lines'] = 0\n",
        "files_without_results_Random['covered_lines'] = 0\n",
        "files_without_results_Random['execution_time'] = 0\n",
        "\n",
        "files_without_results_Frequency = files_without_results_Frequency\n",
        "files_without_results_Frequency['predictor'] = 'FrequencyValuePredictor'\n",
        "files_without_results_Frequency['covered_iids'] = 0\n",
        "files_without_results_Frequency['total_uses'] = 0\n",
        "files_without_results_Frequency['guided_uses'] = 0\n",
        "files_without_results_Frequency['executed_lines'] = 0\n",
        "files_without_results_Frequency['covered_lines'] = 0\n",
        "files_without_results_Frequency['execution_time'] = 0\n",
        "\n",
        "files_without_results_Fine_Grained = files_without_results_Fine_Grained\n",
        "files_without_results_Fine_Grained['predictor'] = 'CodeT5ValuePredictor_fine_grained'\n",
        "files_without_results_Fine_Grained['covered_iids'] = 0\n",
        "files_without_results_Fine_Grained['total_uses'] = 0\n",
        "files_without_results_Fine_Grained['guided_uses'] = 0\n",
        "files_without_results_Fine_Grained['executed_lines'] = 0\n",
        "files_without_results_Fine_Grained['covered_lines'] = 0\n",
        "files_without_results_Fine_Grained['execution_time'] = 0\n",
        "\n",
        "files_without_results_Deterministic = files_without_results_Deterministic\n",
        "files_without_results_Deterministic['predictor'] = 'CodeT5ValuePredictor_coarse_grained_deterministic'\n",
        "files_without_results_Deterministic['covered_iids'] = 0\n",
        "files_without_results_Deterministic['total_uses'] = 0\n",
        "files_without_results_Deterministic['guided_uses'] = 0\n",
        "files_without_results_Deterministic['executed_lines'] = 0\n",
        "files_without_results_Deterministic['covered_lines'] = 0\n",
        "files_without_results_Deterministic['execution_time'] = 0\n",
        "\n",
        "files_without_results_Randomized = files_without_results_Randomized\n",
        "files_without_results_Randomized['predictor'] = 'CodeT5ValuePredictor_coarse_grained_randomized'\n",
        "files_without_results_Randomized['covered_iids'] = 0\n",
        "files_without_results_Randomized['total_uses'] = 0\n",
        "files_without_results_Randomized['guided_uses'] = 0\n",
        "files_without_results_Randomized['executed_lines'] = 0\n",
        "files_without_results_Randomized['covered_lines'] = 0\n",
        "files_without_results_Randomized['execution_time'] = 0\n",
        "\n",
        "files_without_results_Pynguin = files_without_results_Pynguin\n",
        "files_without_results_Pynguin['predictor'] = 'PynguinTests'\n",
        "files_without_results_Pynguin['covered_iids'] = 0\n",
        "files_without_results_Pynguin['total_uses'] = 0\n",
        "files_without_results_Pynguin['guided_uses'] = 0\n",
        "files_without_results_Pynguin['executed_lines'] = 0\n",
        "files_without_results_Pynguin['covered_lines'] = 0\n",
        "files_without_results_Pynguin['execution_time'] = 0\n"
      ]
    },
    {
      "cell_type": "code",
      "execution_count": null,
      "metadata": {
        "id": "4d1mP4_ToXjb"
      },
      "outputs": [],
      "source": [
        "random_functions_df = random_functions_df.merge(random_functions_total_lines_df, how='left', on='file')\n",
        "random_functions_df"
      ]
    },
    {
      "cell_type": "code",
      "execution_count": null,
      "metadata": {
        "id": "8nTLxCuLJRTC"
      },
      "outputs": [],
      "source": [
        "random_functions_df = pd.concat([random_functions_df, files_without_results_As_Is])\n",
        "random_functions_df = pd.concat([random_functions_df, files_without_results_Naive])\n",
        "random_functions_df = pd.concat([random_functions_df, files_without_results_Random])\n",
        "random_functions_df = pd.concat([random_functions_df, files_without_results_Frequency])\n",
        "random_functions_df = pd.concat([random_functions_df, files_without_results_Fine_Grained])\n",
        "random_functions_df = pd.concat([random_functions_df, files_without_results_Deterministic])\n",
        "random_functions_df = pd.concat([random_functions_df, files_without_results_Randomized])\n",
        "random_functions_df = pd.concat([random_functions_df, files_without_results_Pynguin])\n",
        "random_functions_df"
      ]
    },
    {
      "cell_type": "code",
      "execution_count": null,
      "metadata": {
        "id": "PD6bw03MJ-wN"
      },
      "outputs": [],
      "source": [
        "random_functions_df['covered_lines_percentage'] = random_functions_df['covered_lines'] / random_functions_df['total_lines']\n",
        "random_functions_df['line_execution_time'] = random_functions_df['execution_time'] / random_functions_df['executed_lines']\n",
        "random_functions_df['completely_executed'] = random_functions_df['total_lines'] - random_functions_df['covered_lines']\n",
        "random_functions_df['completely_executed'] = [1 if value == 0 else 0 for value in random_functions_df['completely_executed']]\n",
        "random_functions_df.replace([np.inf, -np.inf], 0, inplace=True)\n",
        "random_functions_df"
      ]
    },
    {
      "cell_type": "markdown",
      "metadata": {
        "id": "7l4cf3NbK3jB"
      },
      "source": [
        "Overall Comparisson"
      ]
    },
    {
      "cell_type": "code",
      "execution_count": 152,
      "metadata": {
        "colab": {
          "base_uri": "https://localhost:8080/",
          "height": 430
        },
        "id": "QOvO3nmmJmYV",
        "outputId": "bc6cebd1-2bcc-4ff7-d2f4-1087b6ba11ed"
      },
      "outputs": [
        {
          "data": {
            "text/html": [
              "\n",
              "  <div id=\"df-8b043503-3e1e-4f78-936d-c73c2cc45ff0\">\n",
              "    <div class=\"colab-df-container\">\n",
              "      <div>\n",
              "<style scoped>\n",
              "    .dataframe tbody tr th:only-of-type {\n",
              "        vertical-align: middle;\n",
              "    }\n",
              "\n",
              "    .dataframe tbody tr th {\n",
              "        vertical-align: top;\n",
              "    }\n",
              "\n",
              "    .dataframe thead th {\n",
              "        text-align: right;\n",
              "    }\n",
              "</style>\n",
              "<table border=\"1\" class=\"dataframe\">\n",
              "  <thead>\n",
              "    <tr style=\"text-align: right;\">\n",
              "      <th></th>\n",
              "      <th>covered_iids</th>\n",
              "      <th>total_uses</th>\n",
              "      <th>guided_uses</th>\n",
              "      <th>covered_lines</th>\n",
              "      <th>completely_executed</th>\n",
              "      <th>execution_time</th>\n",
              "      <th>Approach</th>\n",
              "    </tr>\n",
              "    <tr>\n",
              "      <th>predictor</th>\n",
              "      <th></th>\n",
              "      <th></th>\n",
              "      <th></th>\n",
              "      <th></th>\n",
              "      <th></th>\n",
              "      <th></th>\n",
              "      <th></th>\n",
              "    </tr>\n",
              "  </thead>\n",
              "  <tbody>\n",
              "    <tr>\n",
              "      <th>AsIs</th>\n",
              "      <td>1218</td>\n",
              "      <td>1218</td>\n",
              "      <td>0</td>\n",
              "      <td>154</td>\n",
              "      <td>19</td>\n",
              "      <td>2.414686</td>\n",
              "      <td>Pynguin Tests</td>\n",
              "    </tr>\n",
              "    <tr>\n",
              "      <th>CodeT5ValuePredictor_coarse_grained_deterministic</th>\n",
              "      <td>9690</td>\n",
              "      <td>18731</td>\n",
              "      <td>10894</td>\n",
              "      <td>2034</td>\n",
              "      <td>342</td>\n",
              "      <td>469.546773</td>\n",
              "      <td>Fine-grained</td>\n",
              "    </tr>\n",
              "    <tr>\n",
              "      <th>CodeT5ValuePredictor_coarse_grained_randomized</th>\n",
              "      <td>9351</td>\n",
              "      <td>11317</td>\n",
              "      <td>6730</td>\n",
              "      <td>1987</td>\n",
              "      <td>338</td>\n",
              "      <td>371.841410</td>\n",
              "      <td>Coarse-grained \\n(randomized)</td>\n",
              "    </tr>\n",
              "    <tr>\n",
              "      <th>CodeT5ValuePredictor_fine_grained</th>\n",
              "      <td>9591</td>\n",
              "      <td>16859</td>\n",
              "      <td>9781</td>\n",
              "      <td>2019</td>\n",
              "      <td>340</td>\n",
              "      <td>439.997213</td>\n",
              "      <td>Coarse-grained \\n(deterministic)</td>\n",
              "    </tr>\n",
              "    <tr>\n",
              "      <th>FrequencyValuePredictor</th>\n",
              "      <td>4229</td>\n",
              "      <td>4231</td>\n",
              "      <td>2976</td>\n",
              "      <td>428</td>\n",
              "      <td>76</td>\n",
              "      <td>5.285355</td>\n",
              "      <td>Frequency</td>\n",
              "    </tr>\n",
              "    <tr>\n",
              "      <th>NaiveValuePredictor</th>\n",
              "      <td>4229</td>\n",
              "      <td>4231</td>\n",
              "      <td>2976</td>\n",
              "      <td>426</td>\n",
              "      <td>74</td>\n",
              "      <td>5.088755</td>\n",
              "      <td>Naive</td>\n",
              "    </tr>\n",
              "    <tr>\n",
              "      <th>PynguinTests</th>\n",
              "      <td>0</td>\n",
              "      <td>0</td>\n",
              "      <td>0</td>\n",
              "      <td>233</td>\n",
              "      <td>18</td>\n",
              "      <td>67.778833</td>\n",
              "      <td>As Is</td>\n",
              "    </tr>\n",
              "    <tr>\n",
              "      <th>RandomPredictor</th>\n",
              "      <td>4407</td>\n",
              "      <td>4409</td>\n",
              "      <td>3060</td>\n",
              "      <td>477</td>\n",
              "      <td>80</td>\n",
              "      <td>5.626200</td>\n",
              "      <td>Random</td>\n",
              "    </tr>\n",
              "  </tbody>\n",
              "</table>\n",
              "</div>\n",
              "      <button class=\"colab-df-convert\" onclick=\"convertToInteractive('df-8b043503-3e1e-4f78-936d-c73c2cc45ff0')\"\n",
              "              title=\"Convert this dataframe to an interactive table.\"\n",
              "              style=\"display:none;\">\n",
              "        \n",
              "  <svg xmlns=\"http://www.w3.org/2000/svg\" height=\"24px\"viewBox=\"0 0 24 24\"\n",
              "       width=\"24px\">\n",
              "    <path d=\"M0 0h24v24H0V0z\" fill=\"none\"/>\n",
              "    <path d=\"M18.56 5.44l.94 2.06.94-2.06 2.06-.94-2.06-.94-.94-2.06-.94 2.06-2.06.94zm-11 1L8.5 8.5l.94-2.06 2.06-.94-2.06-.94L8.5 2.5l-.94 2.06-2.06.94zm10 10l.94 2.06.94-2.06 2.06-.94-2.06-.94-.94-2.06-.94 2.06-2.06.94z\"/><path d=\"M17.41 7.96l-1.37-1.37c-.4-.4-.92-.59-1.43-.59-.52 0-1.04.2-1.43.59L10.3 9.45l-7.72 7.72c-.78.78-.78 2.05 0 2.83L4 21.41c.39.39.9.59 1.41.59.51 0 1.02-.2 1.41-.59l7.78-7.78 2.81-2.81c.8-.78.8-2.07 0-2.86zM5.41 20L4 18.59l7.72-7.72 1.47 1.35L5.41 20z\"/>\n",
              "  </svg>\n",
              "      </button>\n",
              "      \n",
              "  <style>\n",
              "    .colab-df-container {\n",
              "      display:flex;\n",
              "      flex-wrap:wrap;\n",
              "      gap: 12px;\n",
              "    }\n",
              "\n",
              "    .colab-df-convert {\n",
              "      background-color: #E8F0FE;\n",
              "      border: none;\n",
              "      border-radius: 50%;\n",
              "      cursor: pointer;\n",
              "      display: none;\n",
              "      fill: #1967D2;\n",
              "      height: 32px;\n",
              "      padding: 0 0 0 0;\n",
              "      width: 32px;\n",
              "    }\n",
              "\n",
              "    .colab-df-convert:hover {\n",
              "      background-color: #E2EBFA;\n",
              "      box-shadow: 0px 1px 2px rgba(60, 64, 67, 0.3), 0px 1px 3px 1px rgba(60, 64, 67, 0.15);\n",
              "      fill: #174EA6;\n",
              "    }\n",
              "\n",
              "    [theme=dark] .colab-df-convert {\n",
              "      background-color: #3B4455;\n",
              "      fill: #D2E3FC;\n",
              "    }\n",
              "\n",
              "    [theme=dark] .colab-df-convert:hover {\n",
              "      background-color: #434B5C;\n",
              "      box-shadow: 0px 1px 3px 1px rgba(0, 0, 0, 0.15);\n",
              "      filter: drop-shadow(0px 1px 2px rgba(0, 0, 0, 0.3));\n",
              "      fill: #FFFFFF;\n",
              "    }\n",
              "  </style>\n",
              "\n",
              "      <script>\n",
              "        const buttonEl =\n",
              "          document.querySelector('#df-8b043503-3e1e-4f78-936d-c73c2cc45ff0 button.colab-df-convert');\n",
              "        buttonEl.style.display =\n",
              "          google.colab.kernel.accessAllowed ? 'block' : 'none';\n",
              "\n",
              "        async function convertToInteractive(key) {\n",
              "          const element = document.querySelector('#df-8b043503-3e1e-4f78-936d-c73c2cc45ff0');\n",
              "          const dataTable =\n",
              "            await google.colab.kernel.invokeFunction('convertToInteractive',\n",
              "                                                     [key], {});\n",
              "          if (!dataTable) return;\n",
              "\n",
              "          const docLinkHtml = 'Like what you see? Visit the ' +\n",
              "            '<a target=\"_blank\" href=https://colab.research.google.com/notebooks/data_table.ipynb>data table notebook</a>'\n",
              "            + ' to learn more about interactive tables.';\n",
              "          element.innerHTML = '';\n",
              "          dataTable['output_type'] = 'display_data';\n",
              "          await google.colab.output.renderOutput(dataTable, element);\n",
              "          const docLink = document.createElement('div');\n",
              "          docLink.innerHTML = docLinkHtml;\n",
              "          element.appendChild(docLink);\n",
              "        }\n",
              "      </script>\n",
              "    </div>\n",
              "  </div>\n",
              "  "
            ],
            "text/plain": [
              "                                                   covered_iids  total_uses  \\\n",
              "predictor                                                                     \n",
              "AsIs                                                       1218        1218   \n",
              "CodeT5ValuePredictor_coarse_grained_deterministic          9690       18731   \n",
              "CodeT5ValuePredictor_coarse_grained_randomized             9351       11317   \n",
              "CodeT5ValuePredictor_fine_grained                          9591       16859   \n",
              "FrequencyValuePredictor                                    4229        4231   \n",
              "NaiveValuePredictor                                        4229        4231   \n",
              "PynguinTests                                                  0           0   \n",
              "RandomPredictor                                            4407        4409   \n",
              "\n",
              "                                                   guided_uses  covered_lines  \\\n",
              "predictor                                                                       \n",
              "AsIs                                                         0            154   \n",
              "CodeT5ValuePredictor_coarse_grained_deterministic        10894           2034   \n",
              "CodeT5ValuePredictor_coarse_grained_randomized            6730           1987   \n",
              "CodeT5ValuePredictor_fine_grained                         9781           2019   \n",
              "FrequencyValuePredictor                                   2976            428   \n",
              "NaiveValuePredictor                                       2976            426   \n",
              "PynguinTests                                                 0            233   \n",
              "RandomPredictor                                           3060            477   \n",
              "\n",
              "                                                   completely_executed  \\\n",
              "predictor                                                                \n",
              "AsIs                                                                19   \n",
              "CodeT5ValuePredictor_coarse_grained_deterministic                  342   \n",
              "CodeT5ValuePredictor_coarse_grained_randomized                     338   \n",
              "CodeT5ValuePredictor_fine_grained                                  340   \n",
              "FrequencyValuePredictor                                             76   \n",
              "NaiveValuePredictor                                                 74   \n",
              "PynguinTests                                                        18   \n",
              "RandomPredictor                                                     80   \n",
              "\n",
              "                                                   execution_time  \\\n",
              "predictor                                                           \n",
              "AsIs                                                     2.414686   \n",
              "CodeT5ValuePredictor_coarse_grained_deterministic      469.546773   \n",
              "CodeT5ValuePredictor_coarse_grained_randomized         371.841410   \n",
              "CodeT5ValuePredictor_fine_grained                      439.997213   \n",
              "FrequencyValuePredictor                                  5.285355   \n",
              "NaiveValuePredictor                                      5.088755   \n",
              "PynguinTests                                            67.778833   \n",
              "RandomPredictor                                          5.626200   \n",
              "\n",
              "                                                                           Approach  \n",
              "predictor                                                                            \n",
              "AsIs                                                                  Pynguin Tests  \n",
              "CodeT5ValuePredictor_coarse_grained_deterministic                      Fine-grained  \n",
              "CodeT5ValuePredictor_coarse_grained_randomized        Coarse-grained \\n(randomized)  \n",
              "CodeT5ValuePredictor_fine_grained                  Coarse-grained \\n(deterministic)  \n",
              "FrequencyValuePredictor                                                   Frequency  \n",
              "NaiveValuePredictor                                                           Naive  \n",
              "PynguinTests                                                                  As Is  \n",
              "RandomPredictor                                                              Random  "
            ]
          },
          "execution_count": 152,
          "metadata": {},
          "output_type": "execute_result"
        }
      ],
      "source": [
        "random_functions_df_grouped = random_functions_df.groupby(by=\"predictor\")[[\"covered_iids\",\"total_uses\",\"guided_uses\",\"covered_lines\",\"completely_executed\", \"execution_time\"]].sum()\n",
        "random_functions_df_grouped['Approach'] = ['Pynguin Tests', 'Fine-grained', 'Coarse-grained \\n(randomized)', 'Coarse-grained \\n(deterministic)', 'Frequency', 'Naive', 'As Is', 'Random']\n",
        "random_functions_df_grouped"
      ]
    },
    {
      "cell_type": "code",
      "execution_count": 153,
      "metadata": {
        "colab": {
          "base_uri": "https://localhost:8080/",
          "height": 942
        },
        "id": "jdC6tHCpcIAe",
        "outputId": "b1960172-2730-4970-8e85-b2e9155592cc"
      },
      "outputs": [
        {
          "data": {
            "text/plain": [
              "Text(0.5, 0, 'Fully executed functions (%)')"
            ]
          },
          "execution_count": 153,
          "metadata": {},
          "output_type": "execute_result"
        },
        {
          "data": {
            "image/png": "[encoded data removed]",
            "text/plain": [
              "<Figure size 1080x1080 with 1 Axes>"
            ]
          },
          "metadata": {
            "needs_background": "light"
          },
          "output_type": "display_data"
        }
      ],
      "source": [
        "random_functions_df_grouped = random_functions_df_grouped.sort_values(by=['completely_executed'])\n",
        "random_functions_df_grouped['completely_executed'] = [x * 100 for x in random_functions_df_grouped['completely_executed'] / 1000]\n",
        "\n",
        "#plt.figure(figsize=(60,6))\n",
        "random_functions_df_grouped.plot.barh(x='Approach', y=['completely_executed'], color='gray', legend=None)\n",
        "plt.rcParams.update({'font.size': 35})\n",
        "#plt.rcParams[\"figure.figsize\"] = (15,15)\n",
        "plt.xlabel(\"Fully executed functions (%)\")"
      ]
    },
    {
      "cell_type": "code",
      "execution_count": null,
      "metadata": {
        "id": "oBVZ_epoq2qe"
      },
      "outputs": [],
      "source": [
        "random_functions_df_grouped"
      ]
    },
    {
      "cell_type": "code",
      "execution_count": null,
      "metadata": {
        "id": "RPOSZPp40EGN"
      },
      "outputs": [],
      "source": [
        "random_functions_df_grouped[\"covered_lines_percentage_\"] = random_functions_df_grouped[\"covered_lines\"] / [random_functions_total_lines_df['total_lines'].sum() for e in random_functions_df_grouped[\"covered_lines\"]]\n",
        "random_functions_df_grouped[\"execution_time_percentage_\"] = random_functions_df_grouped[\"execution_time\"] / random_functions_df_grouped[\"covered_lines\"]\n",
        "random_functions_df_grouped"
      ]
    },
    {
      "cell_type": "markdown",
      "metadata": {
        "id": "WbimjtWs0sY5"
      },
      "source": [
        "### Main results"
      ]
    },
    {
      "cell_type": "code",
      "execution_count": 156,
      "metadata": {
        "colab": {
          "base_uri": "https://localhost:8080/",
          "height": 332
        },
        "id": "lT52PchhLIhQ",
        "outputId": "d85a033a-ad68-4fb7-ed11-b443706ed3cd"
      },
      "outputs": [
        {
          "data": {
            "text/html": [
              "\n",
              "  <div id=\"df-266969bf-95ce-4e11-bfea-e16765037c54\">\n",
              "    <div class=\"colab-df-container\">\n",
              "      <div>\n",
              "<style scoped>\n",
              "    .dataframe tbody tr th:only-of-type {\n",
              "        vertical-align: middle;\n",
              "    }\n",
              "\n",
              "    .dataframe tbody tr th {\n",
              "        vertical-align: top;\n",
              "    }\n",
              "\n",
              "    .dataframe thead th {\n",
              "        text-align: right;\n",
              "    }\n",
              "</style>\n",
              "<table border=\"1\" class=\"dataframe\">\n",
              "  <thead>\n",
              "    <tr style=\"text-align: right;\">\n",
              "      <th></th>\n",
              "      <th>covered_lines_percentage</th>\n",
              "      <th>completely_executed</th>\n",
              "      <th>line_execution_time</th>\n",
              "    </tr>\n",
              "    <tr>\n",
              "      <th>predictor</th>\n",
              "      <th></th>\n",
              "      <th></th>\n",
              "      <th></th>\n",
              "    </tr>\n",
              "  </thead>\n",
              "  <tbody>\n",
              "    <tr>\n",
              "      <th>AsIs</th>\n",
              "      <td>0.040729</td>\n",
              "      <td>0.019</td>\n",
              "      <td>0.001498</td>\n",
              "    </tr>\n",
              "    <tr>\n",
              "      <th>CodeT5ValuePredictor_coarse_grained_deterministic</th>\n",
              "      <td>0.500481</td>\n",
              "      <td>0.342</td>\n",
              "      <td>0.185076</td>\n",
              "    </tr>\n",
              "    <tr>\n",
              "      <th>CodeT5ValuePredictor_coarse_grained_randomized</th>\n",
              "      <td>0.493197</td>\n",
              "      <td>0.338</td>\n",
              "      <td>0.167478</td>\n",
              "    </tr>\n",
              "    <tr>\n",
              "      <th>CodeT5ValuePredictor_fine_grained</th>\n",
              "      <td>0.498525</td>\n",
              "      <td>0.340</td>\n",
              "      <td>0.178694</td>\n",
              "    </tr>\n",
              "    <tr>\n",
              "      <th>FrequencyValuePredictor</th>\n",
              "      <td>0.129595</td>\n",
              "      <td>0.076</td>\n",
              "      <td>0.003613</td>\n",
              "    </tr>\n",
              "    <tr>\n",
              "      <th>NaiveValuePredictor</th>\n",
              "      <td>0.127589</td>\n",
              "      <td>0.074</td>\n",
              "      <td>0.003617</td>\n",
              "    </tr>\n",
              "    <tr>\n",
              "      <th>PynguinTests</th>\n",
              "      <td>0.040725</td>\n",
              "      <td>0.018</td>\n",
              "      <td>0.012964</td>\n",
              "    </tr>\n",
              "    <tr>\n",
              "      <th>RandomPredictor</th>\n",
              "      <td>0.137774</td>\n",
              "      <td>0.080</td>\n",
              "      <td>0.003940</td>\n",
              "    </tr>\n",
              "  </tbody>\n",
              "</table>\n",
              "</div>\n",
              "      <button class=\"colab-df-convert\" onclick=\"convertToInteractive('df-266969bf-95ce-4e11-bfea-e16765037c54')\"\n",
              "              title=\"Convert this dataframe to an interactive table.\"\n",
              "              style=\"display:none;\">\n",
              "        \n",
              "  <svg xmlns=\"http://www.w3.org/2000/svg\" height=\"24px\"viewBox=\"0 0 24 24\"\n",
              "       width=\"24px\">\n",
              "    <path d=\"M0 0h24v24H0V0z\" fill=\"none\"/>\n",
              "    <path d=\"M18.56 5.44l.94 2.06.94-2.06 2.06-.94-2.06-.94-.94-2.06-.94 2.06-2.06.94zm-11 1L8.5 8.5l.94-2.06 2.06-.94-2.06-.94L8.5 2.5l-.94 2.06-2.06.94zm10 10l.94 2.06.94-2.06 2.06-.94-2.06-.94-.94-2.06-.94 2.06-2.06.94z\"/><path d=\"M17.41 7.96l-1.37-1.37c-.4-.4-.92-.59-1.43-.59-.52 0-1.04.2-1.43.59L10.3 9.45l-7.72 7.72c-.78.78-.78 2.05 0 2.83L4 21.41c.39.39.9.59 1.41.59.51 0 1.02-.2 1.41-.59l7.78-7.78 2.81-2.81c.8-.78.8-2.07 0-2.86zM5.41 20L4 18.59l7.72-7.72 1.47 1.35L5.41 20z\"/>\n",
              "  </svg>\n",
              "      </button>\n",
              "      \n",
              "  <style>\n",
              "    .colab-df-container {\n",
              "      display:flex;\n",
              "      flex-wrap:wrap;\n",
              "      gap: 12px;\n",
              "    }\n",
              "\n",
              "    .colab-df-convert {\n",
              "      background-color: #E8F0FE;\n",
              "      border: none;\n",
              "      border-radius: 50%;\n",
              "      cursor: pointer;\n",
              "      display: none;\n",
              "      fill: #1967D2;\n",
              "      height: 32px;\n",
              "      padding: 0 0 0 0;\n",
              "      width: 32px;\n",
              "    }\n",
              "\n",
              "    .colab-df-convert:hover {\n",
              "      background-color: #E2EBFA;\n",
              "      box-shadow: 0px 1px 2px rgba(60, 64, 67, 0.3), 0px 1px 3px 1px rgba(60, 64, 67, 0.15);\n",
              "      fill: #174EA6;\n",
              "    }\n",
              "\n",
              "    [theme=dark] .colab-df-convert {\n",
              "      background-color: #3B4455;\n",
              "      fill: #D2E3FC;\n",
              "    }\n",
              "\n",
              "    [theme=dark] .colab-df-convert:hover {\n",
              "      background-color: #434B5C;\n",
              "      box-shadow: 0px 1px 3px 1px rgba(0, 0, 0, 0.15);\n",
              "      filter: drop-shadow(0px 1px 2px rgba(0, 0, 0, 0.3));\n",
              "      fill: #FFFFFF;\n",
              "    }\n",
              "  </style>\n",
              "\n",
              "      <script>\n",
              "        const buttonEl =\n",
              "          document.querySelector('#df-266969bf-95ce-4e11-bfea-e16765037c54 button.colab-df-convert');\n",
              "        buttonEl.style.display =\n",
              "          google.colab.kernel.accessAllowed ? 'block' : 'none';\n",
              "\n",
              "        async function convertToInteractive(key) {\n",
              "          const element = document.querySelector('#df-266969bf-95ce-4e11-bfea-e16765037c54');\n",
              "          const dataTable =\n",
              "            await google.colab.kernel.invokeFunction('convertToInteractive',\n",
              "                                                     [key], {});\n",
              "          if (!dataTable) return;\n",
              "\n",
              "          const docLinkHtml = 'Like what you see? Visit the ' +\n",
              "            '<a target=\"_blank\" href=https://colab.research.google.com/notebooks/data_table.ipynb>data table notebook</a>'\n",
              "            + ' to learn more about interactive tables.';\n",
              "          element.innerHTML = '';\n",
              "          dataTable['output_type'] = 'display_data';\n",
              "          await google.colab.output.renderOutput(dataTable, element);\n",
              "          const docLink = document.createElement('div');\n",
              "          docLink.innerHTML = docLinkHtml;\n",
              "          element.appendChild(docLink);\n",
              "        }\n",
              "      </script>\n",
              "    </div>\n",
              "  </div>\n",
              "  "
            ],
            "text/plain": [
              "                                                   covered_lines_percentage  \\\n",
              "predictor                                                                     \n",
              "AsIs                                                               0.040729   \n",
              "CodeT5ValuePredictor_coarse_grained_deterministic                  0.500481   \n",
              "CodeT5ValuePredictor_coarse_grained_randomized                     0.493197   \n",
              "CodeT5ValuePredictor_fine_grained                                  0.498525   \n",
              "FrequencyValuePredictor                                            0.129595   \n",
              "NaiveValuePredictor                                                0.127589   \n",
              "PynguinTests                                                       0.040725   \n",
              "RandomPredictor                                                    0.137774   \n",
              "\n",
              "                                                   completely_executed  \\\n",
              "predictor                                                                \n",
              "AsIs                                                             0.019   \n",
              "CodeT5ValuePredictor_coarse_grained_deterministic                0.342   \n",
              "CodeT5ValuePredictor_coarse_grained_randomized                   0.338   \n",
              "CodeT5ValuePredictor_fine_grained                                0.340   \n",
              "FrequencyValuePredictor                                          0.076   \n",
              "NaiveValuePredictor                                              0.074   \n",
              "PynguinTests                                                     0.018   \n",
              "RandomPredictor                                                  0.080   \n",
              "\n",
              "                                                   line_execution_time  \n",
              "predictor                                                               \n",
              "AsIs                                                          0.001498  \n",
              "CodeT5ValuePredictor_coarse_grained_deterministic             0.185076  \n",
              "CodeT5ValuePredictor_coarse_grained_randomized                0.167478  \n",
              "CodeT5ValuePredictor_fine_grained                             0.178694  \n",
              "FrequencyValuePredictor                                       0.003613  \n",
              "NaiveValuePredictor                                           0.003617  \n",
              "PynguinTests                                                  0.012964  \n",
              "RandomPredictor                                               0.003940  "
            ]
          },
          "execution_count": 156,
          "metadata": {},
          "output_type": "execute_result"
        }
      ],
      "source": [
        "random_functions_df_grouped = random_functions_df.groupby(by=\"predictor\")[[\"covered_lines_percentage\", \"completely_executed\", \"line_execution_time\"]].mean()\n",
        "random_functions_df_grouped"
      ]
    },
    {
      "cell_type": "code",
      "execution_count": null,
      "metadata": {
        "colab": {
          "base_uri": "https://localhost:8080/",
          "height": 468
        },
        "id": "CsmEpQK1ZDrr",
        "outputId": "15f910c2-a562-4a3f-88b3-515bc4484b75"
      },
      "outputs": [],
      "source": [
        "random_functions_df_covered_lines_per_predictor = pd.DataFrame()\n",
        "random_functions_df_covered_lines_per_predictor['As Is'] = [x * 100 for x in random_functions_df[random_functions_df['predictor'] == 'AsIs']['covered_lines_percentage'].tolist()]\n",
        "random_functions_df_covered_lines_per_predictor['Pynguin Tests'] = [x * 100 for x in random_functions_df[random_functions_df['predictor'] == 'PynguinTests']['covered_lines_percentage'].tolist()]\n",
        "random_functions_df_covered_lines_per_predictor['Naive'] = [x * 100 for x in random_functions_df[random_functions_df['predictor'] == 'NaiveValuePredictor']['covered_lines_percentage'].tolist()]\n",
        "random_functions_df_covered_lines_per_predictor['Frequency'] = [x * 100 for x in random_functions_df[random_functions_df['predictor'] == 'FrequencyValuePredictor']['covered_lines_percentage'].tolist()]\n",
        "random_functions_df_covered_lines_per_predictor['Random'] = [x * 100 for x in random_functions_df[random_functions_df['predictor'] == 'RandomPredictor']['covered_lines_percentage'].tolist()]\n",
        "random_functions_df_covered_lines_per_predictor['Coarse-grained \\n(randomized)'] = [x * 100 for x in random_functions_df[random_functions_df['predictor'] == 'CodeT5ValuePredictor_coarse_grained_randomized']['covered_lines_percentage'].tolist()]\n",
        "random_functions_df_covered_lines_per_predictor['Coarse-grained \\n(deterministic)'] = [x * 100 for x in random_functions_df[random_functions_df['predictor'] == 'CodeT5ValuePredictor_coarse_grained_deterministic']['covered_lines_percentage'].tolist()]\n",
        "random_functions_df_covered_lines_per_predictor['Fine-grained'] = [x * 100 for x in random_functions_df[random_functions_df['predictor'] == 'CodeT5ValuePredictor_fine_grained']['covered_lines_percentage'].tolist()]\n",
        "random_functions_df_covered_lines_per_predictor"
      ]
    },
    {
      "cell_type": "code",
      "execution_count": 158,
      "metadata": {
        "colab": {
          "base_uri": "https://localhost:8080/",
          "height": 1000
        },
        "id": "fDIoCk2M9TzG",
        "outputId": "68af316b-f745-4209-91bc-facd68d2e108"
      },
      "outputs": [
        {
          "data": {
            "text/plain": [
              "<Figure size 2592x432 with 0 Axes>"
            ]
          },
          "metadata": {},
          "output_type": "display_data"
        },
        {
          "data": {
            "image/png": "[encoded data removed]",
            "text/plain": [
              "<Figure size 1080x1080 with 1 Axes>"
            ]
          },
          "metadata": {
            "needs_background": "light"
          },
          "output_type": "display_data"
        }
      ],
      "source": [
        "meanlineprops = dict(linestyle='--', linewidth=4, color='black')\n",
        "medianlineprops = dict(linestyle='-', linewidth=4, color='gray')\n",
        "flierprops = dict(marker='o',markerfacecolor='gray', markersize=12,\n",
        "                  linestyle='none', markeredgecolor='gray')\n",
        "\n",
        "plt.figure(figsize=(36,6))\n",
        "random_functions_df_covered_lines_per_predictor.plot.box(\n",
        "    showmeans=True, meanprops=meanlineprops, meanline=True, \n",
        "    medianprops=medianlineprops,\n",
        "    vert=0,\n",
        "    flierprops=flierprops);\n",
        "\n",
        "#plt.rcParams.update({'font.size': 35})\n",
        "plt.rcParams[\"figure.figsize\"] = (15,15)\n",
        "plt.xlabel(\"Line Coverage (%)\")\n",
        "plt.ylabel(\"Approach\")\n",
        "plt.plot([], [], '--', linewidth=4, color='black', label='mean')\n",
        "plt.plot([], [], '-', linewidth=4, color='gray', label='median')\n",
        "plt.plot([], [], 'o', markersize=12, color='gray', label='fliers')\n",
        "plt.legend(loc='upper center', bbox_to_anchor=(0.5, 1.11), ncol=3)\n",
        "plt.savefig(\"fcts_dataset_LC.pdf\")"
      ]
    },
    {
      "cell_type": "code",
      "execution_count": 159,
      "metadata": {
        "id": "l9rD6G55_sWf"
      },
      "outputs": [],
      "source": [
        "#files.download(\"fcts_dataset_LC.pdf\") "
      ]
    },
    {
      "cell_type": "markdown",
      "metadata": {
        "id": "ObZCAQT-HMna"
      },
      "source": [
        "AsIs vs others"
      ]
    },
    {
      "cell_type": "code",
      "execution_count": 160,
      "metadata": {
        "colab": {
          "base_uri": "https://localhost:8080/"
        },
        "id": "m1TVBIBnAjH2",
        "outputId": "8fdb840c-4c1c-480c-8619-7a17a23c6a45"
      },
      "outputs": [
        {
          "data": {
            "text/plain": [
              "WilcoxonResult(statistic=0.0, pvalue=8.088766244530643e-128)"
            ]
          },
          "execution_count": 160,
          "metadata": {},
          "output_type": "execute_result"
        }
      ],
      "source": [
        "import scipy.stats as stats\n",
        "stats.wilcoxon(random_functions_df[random_functions_df['predictor'] == 'AsIs']['covered_lines_percentage'], random_functions_df[random_functions_df['predictor'] == 'CodeT5ValuePredictor_coarse_grained_randomized']['covered_lines_percentage'])"
      ]
    },
    {
      "cell_type": "code",
      "execution_count": 161,
      "metadata": {
        "colab": {
          "base_uri": "https://localhost:8080/"
        },
        "id": "YZPDKmCwHYV_",
        "outputId": "db508b56-fd94-4795-9fc2-db9c42e101f3"
      },
      "outputs": [
        {
          "data": {
            "text/plain": [
              "WilcoxonResult(statistic=0.0, pvalue=7.62364924293234e-129)"
            ]
          },
          "execution_count": 161,
          "metadata": {},
          "output_type": "execute_result"
        }
      ],
      "source": [
        "stats.wilcoxon(random_functions_df[random_functions_df['predictor'] == 'AsIs']['covered_lines_percentage'], random_functions_df[random_functions_df['predictor'] == 'CodeT5ValuePredictor_coarse_grained_deterministic']['covered_lines_percentage'])"
      ]
    },
    {
      "cell_type": "code",
      "execution_count": 162,
      "metadata": {
        "colab": {
          "base_uri": "https://localhost:8080/"
        },
        "id": "avfCGoHVHYrm",
        "outputId": "a80cc5f3-7552-4e3f-b79b-9a51bb8c365b"
      },
      "outputs": [
        {
          "data": {
            "text/plain": [
              "WilcoxonResult(statistic=0.0, pvalue=1.7221400712579933e-128)"
            ]
          },
          "execution_count": 162,
          "metadata": {},
          "output_type": "execute_result"
        }
      ],
      "source": [
        "stats.wilcoxon(random_functions_df[random_functions_df['predictor'] == 'AsIs']['covered_lines_percentage'], random_functions_df[random_functions_df['predictor'] == 'CodeT5ValuePredictor_fine_grained']['covered_lines_percentage'])"
      ]
    },
    {
      "cell_type": "code",
      "execution_count": 163,
      "metadata": {
        "colab": {
          "base_uri": "https://localhost:8080/"
        },
        "id": "4-w03GTxHY4W",
        "outputId": "69dca6e4-13ad-43ef-dde7-47c0e38dee5f"
      },
      "outputs": [
        {
          "data": {
            "text/plain": [
              "WilcoxonResult(statistic=0.0, pvalue=1.6889615447682844e-36)"
            ]
          },
          "execution_count": 163,
          "metadata": {},
          "output_type": "execute_result"
        }
      ],
      "source": [
        "stats.wilcoxon(random_functions_df[random_functions_df['predictor'] == 'AsIs']['covered_lines_percentage'], random_functions_df[random_functions_df['predictor'] == 'NaiveValuePredictor']['covered_lines_percentage'])"
      ]
    },
    {
      "cell_type": "code",
      "execution_count": 164,
      "metadata": {
        "colab": {
          "base_uri": "https://localhost:8080/"
        },
        "id": "CQntvCjqHrgm",
        "outputId": "55aa81f1-fe82-4a36-ff17-cb6ee3f0aa7b"
      },
      "outputs": [
        {
          "data": {
            "text/plain": [
              "WilcoxonResult(statistic=0.0, pvalue=2.8585034424633626e-41)"
            ]
          },
          "execution_count": 164,
          "metadata": {},
          "output_type": "execute_result"
        }
      ],
      "source": [
        "stats.wilcoxon(random_functions_df[random_functions_df['predictor'] == 'AsIs']['covered_lines_percentage'], random_functions_df[random_functions_df['predictor'] == 'RandomPredictor']['covered_lines_percentage'])"
      ]
    },
    {
      "cell_type": "code",
      "execution_count": 165,
      "metadata": {
        "colab": {
          "base_uri": "https://localhost:8080/"
        },
        "id": "qNUPLY5-Hro9",
        "outputId": "d96c1d7b-5c87-4caa-d0eb-bf40ac147b9f"
      },
      "outputs": [
        {
          "data": {
            "text/plain": [
              "WilcoxonResult(statistic=0.0, pvalue=7.738873702395389e-37)"
            ]
          },
          "execution_count": 165,
          "metadata": {},
          "output_type": "execute_result"
        }
      ],
      "source": [
        "stats.wilcoxon(random_functions_df[random_functions_df['predictor'] == 'AsIs']['covered_lines_percentage'], random_functions_df[random_functions_df['predictor'] == 'FrequencyValuePredictor']['covered_lines_percentage'])"
      ]
    },
    {
      "cell_type": "markdown",
      "metadata": {
        "id": "tK_q6RSrIdPo"
      },
      "source": [
        "Naive vs others"
      ]
    },
    {
      "cell_type": "code",
      "execution_count": 166,
      "metadata": {
        "colab": {
          "base_uri": "https://localhost:8080/"
        },
        "id": "Iu2OmeYBHrwm",
        "outputId": "3360de0c-3170-442d-d772-298b59545ea3"
      },
      "outputs": [
        {
          "data": {
            "text/plain": [
              "WilcoxonResult(statistic=2295.0, pvalue=8.101006247111902e-104)"
            ]
          },
          "execution_count": 166,
          "metadata": {},
          "output_type": "execute_result"
        }
      ],
      "source": [
        "stats.wilcoxon(random_functions_df[random_functions_df['predictor'] == 'NaiveValuePredictor']['covered_lines_percentage'], random_functions_df[random_functions_df['predictor'] == 'CodeT5ValuePredictor_coarse_grained_randomized']['covered_lines_percentage'])"
      ]
    },
    {
      "cell_type": "code",
      "execution_count": 167,
      "metadata": {
        "colab": {
          "base_uri": "https://localhost:8080/"
        },
        "id": "VUs2-1kvIsUg",
        "outputId": "402ac0a3-540f-4717-fd06-ec56cb54ab47"
      },
      "outputs": [
        {
          "data": {
            "text/plain": [
              "WilcoxonResult(statistic=1823.5, pvalue=1.2685438739457949e-105)"
            ]
          },
          "execution_count": 167,
          "metadata": {},
          "output_type": "execute_result"
        }
      ],
      "source": [
        "stats.wilcoxon(random_functions_df[random_functions_df['predictor'] == 'NaiveValuePredictor']['covered_lines_percentage'], random_functions_df[random_functions_df['predictor'] == 'CodeT5ValuePredictor_coarse_grained_deterministic']['covered_lines_percentage'])"
      ]
    },
    {
      "cell_type": "code",
      "execution_count": 168,
      "metadata": {
        "colab": {
          "base_uri": "https://localhost:8080/"
        },
        "id": "Dfu04Gr1Isdl",
        "outputId": "1a6c422f-40b3-4011-f12d-d61f6227ad36"
      },
      "outputs": [
        {
          "data": {
            "text/plain": [
              "WilcoxonResult(statistic=2833.0, pvalue=2.7649511566320577e-104)"
            ]
          },
          "execution_count": 168,
          "metadata": {},
          "output_type": "execute_result"
        }
      ],
      "source": [
        "stats.wilcoxon(random_functions_df[random_functions_df['predictor'] == 'NaiveValuePredictor']['covered_lines_percentage'], random_functions_df[random_functions_df['predictor'] == 'CodeT5ValuePredictor_fine_grained']['covered_lines_percentage'])"
      ]
    },
    {
      "cell_type": "code",
      "execution_count": 169,
      "metadata": {
        "colab": {
          "base_uri": "https://localhost:8080/"
        },
        "id": "edw-K6UTIslB",
        "outputId": "1737063a-40fe-4120-ae25-e0320333e6c4"
      },
      "outputs": [
        {
          "data": {
            "text/plain": [
              "WilcoxonResult(statistic=3008.0, pvalue=0.02174572458598923)"
            ]
          },
          "execution_count": 169,
          "metadata": {},
          "output_type": "execute_result"
        }
      ],
      "source": [
        "stats.wilcoxon(random_functions_df[random_functions_df['predictor'] == 'NaiveValuePredictor']['covered_lines_percentage'], random_functions_df[random_functions_df['predictor'] == 'RandomPredictor']['covered_lines_percentage'])"
      ]
    },
    {
      "cell_type": "code",
      "execution_count": 170,
      "metadata": {
        "colab": {
          "base_uri": "https://localhost:8080/"
        },
        "id": "GFHBwgnOIsyx",
        "outputId": "d5c3b4b1-af73-42b5-c298-67ebe062a688"
      },
      "outputs": [
        {
          "name": "stderr",
          "output_type": "stream",
          "text": [
            "/usr/local/lib/python3.8/dist-packages/scipy/stats/morestats.py:3155: UserWarning: Sample size too small for normal approximation.\n",
            "  warnings.warn(\"Sample size too small for normal approximation.\")\n"
          ]
        },
        {
          "data": {
            "text/plain": [
              "WilcoxonResult(statistic=0.0, pvalue=0.04216819709715596)"
            ]
          },
          "execution_count": 170,
          "metadata": {},
          "output_type": "execute_result"
        }
      ],
      "source": [
        "stats.wilcoxon(random_functions_df[random_functions_df['predictor'] == 'NaiveValuePredictor']['covered_lines_percentage'], random_functions_df[random_functions_df['predictor'] == 'FrequencyValuePredictor']['covered_lines_percentage'])"
      ]
    },
    {
      "cell_type": "markdown",
      "metadata": {
        "id": "wDVsbeK7Jpj8"
      },
      "source": [
        "Random vs others"
      ]
    },
    {
      "cell_type": "code",
      "execution_count": 171,
      "metadata": {
        "colab": {
          "base_uri": "https://localhost:8080/"
        },
        "id": "g_ecXYEnJyQy",
        "outputId": "90310c45-f81c-4896-8d2b-889047abe27e"
      },
      "outputs": [
        {
          "data": {
            "text/plain": [
              "WilcoxonResult(statistic=2899.0, pvalue=4.852444571098655e-102)"
            ]
          },
          "execution_count": 171,
          "metadata": {},
          "output_type": "execute_result"
        }
      ],
      "source": [
        "stats.wilcoxon(random_functions_df[random_functions_df['predictor'] == 'RandomPredictor']['covered_lines_percentage'], random_functions_df[random_functions_df['predictor'] == 'CodeT5ValuePredictor_fine_grained']['covered_lines_percentage'])"
      ]
    },
    {
      "cell_type": "code",
      "execution_count": 172,
      "metadata": {
        "colab": {
          "base_uri": "https://localhost:8080/"
        },
        "id": "_AO5KY0LJyfw",
        "outputId": "3720aeed-8415-49f2-d608-7393bc2b293a"
      },
      "outputs": [
        {
          "data": {
            "text/plain": [
              "WilcoxonResult(statistic=3159.5, pvalue=6.876581923137283e-102)"
            ]
          },
          "execution_count": 172,
          "metadata": {},
          "output_type": "execute_result"
        }
      ],
      "source": [
        "stats.wilcoxon(random_functions_df[random_functions_df['predictor'] == 'RandomPredictor']['covered_lines_percentage'], random_functions_df[random_functions_df['predictor'] == 'CodeT5ValuePredictor_coarse_grained_deterministic']['covered_lines_percentage'])"
      ]
    },
    {
      "cell_type": "code",
      "execution_count": 173,
      "metadata": {
        "colab": {
          "base_uri": "https://localhost:8080/"
        },
        "id": "mc47Rg82Jyz0",
        "outputId": "e29a599a-ba97-463e-b2e9-e9ce51af8318"
      },
      "outputs": [
        {
          "data": {
            "text/plain": [
              "WilcoxonResult(statistic=4684.5, pvalue=1.3696867492228425e-98)"
            ]
          },
          "execution_count": 173,
          "metadata": {},
          "output_type": "execute_result"
        }
      ],
      "source": [
        "stats.wilcoxon(random_functions_df[random_functions_df['predictor'] == 'RandomPredictor']['covered_lines_percentage'], random_functions_df[random_functions_df['predictor'] == 'CodeT5ValuePredictor_coarse_grained_randomized']['covered_lines_percentage'])"
      ]
    },
    {
      "cell_type": "code",
      "execution_count": 174,
      "metadata": {
        "colab": {
          "base_uri": "https://localhost:8080/"
        },
        "id": "5IsudBpOJy_o",
        "outputId": "f22eb18e-09f8-46c2-ed40-9ce9cf62f7c8"
      },
      "outputs": [
        {
          "data": {
            "text/plain": [
              "WilcoxonResult(statistic=3116.0, pvalue=0.042545325392512726)"
            ]
          },
          "execution_count": 174,
          "metadata": {},
          "output_type": "execute_result"
        }
      ],
      "source": [
        "stats.wilcoxon(random_functions_df[random_functions_df['predictor'] == 'RandomPredictor']['covered_lines_percentage'], random_functions_df[random_functions_df['predictor'] == 'FrequencyValuePredictor']['covered_lines_percentage'])"
      ]
    },
    {
      "cell_type": "markdown",
      "metadata": {
        "id": "3azgc-krKNow"
      },
      "source": [
        "Frequency vs others"
      ]
    },
    {
      "cell_type": "code",
      "execution_count": 175,
      "metadata": {
        "colab": {
          "base_uri": "https://localhost:8080/"
        },
        "id": "7nGacezBKQgJ",
        "outputId": "bcd1e75a-3705-4966-8ac8-fab8dc5107b0"
      },
      "outputs": [
        {
          "data": {
            "text/plain": [
              "WilcoxonResult(statistic=1821.5, pvalue=2.8940249868780098e-105)"
            ]
          },
          "execution_count": 175,
          "metadata": {},
          "output_type": "execute_result"
        }
      ],
      "source": [
        "stats.wilcoxon(random_functions_df[random_functions_df['predictor'] == 'FrequencyValuePredictor']['covered_lines_percentage'], random_functions_df[random_functions_df['predictor'] == 'CodeT5ValuePredictor_coarse_grained_deterministic']['covered_lines_percentage'])"
      ]
    },
    {
      "cell_type": "code",
      "execution_count": 176,
      "metadata": {
        "colab": {
          "base_uri": "https://localhost:8080/"
        },
        "id": "pI8kal-gKRw7",
        "outputId": "a29cb302-eefb-4700-b097-53d899d32997"
      },
      "outputs": [
        {
          "data": {
            "text/plain": [
              "WilcoxonResult(statistic=2293.0, pvalue=1.8599746900478619e-103)"
            ]
          },
          "execution_count": 176,
          "metadata": {},
          "output_type": "execute_result"
        }
      ],
      "source": [
        "stats.wilcoxon(random_functions_df[random_functions_df['predictor'] == 'FrequencyValuePredictor']['covered_lines_percentage'], random_functions_df[random_functions_df['predictor'] == 'CodeT5ValuePredictor_coarse_grained_randomized']['covered_lines_percentage'])"
      ]
    },
    {
      "cell_type": "code",
      "execution_count": 177,
      "metadata": {
        "colab": {
          "base_uri": "https://localhost:8080/"
        },
        "id": "nsOx5PneKR89",
        "outputId": "0b11643f-9227-4509-d374-d37634e6f8c1"
      },
      "outputs": [
        {
          "data": {
            "text/plain": [
              "WilcoxonResult(statistic=2832.0, pvalue=6.412207233021935e-104)"
            ]
          },
          "execution_count": 177,
          "metadata": {},
          "output_type": "execute_result"
        }
      ],
      "source": [
        "stats.wilcoxon(random_functions_df[random_functions_df['predictor'] == 'FrequencyValuePredictor']['covered_lines_percentage'], random_functions_df[random_functions_df['predictor'] == 'CodeT5ValuePredictor_fine_grained']['covered_lines_percentage'])"
      ]
    },
    {
      "cell_type": "markdown",
      "metadata": {
        "id": "YKqXppM7KlQh"
      },
      "source": [
        "CodeT5ValuePredictor_coarse_grained_deterministic vs others"
      ]
    },
    {
      "cell_type": "code",
      "execution_count": 178,
      "metadata": {
        "colab": {
          "base_uri": "https://localhost:8080/"
        },
        "id": "5CqMoBLzGEX2",
        "outputId": "0424c042-e9c1-4527-e437-25c220fe0424"
      },
      "outputs": [
        {
          "data": {
            "text/plain": [
              "WilcoxonResult(statistic=628.5, pvalue=0.0037049569713849964)"
            ]
          },
          "execution_count": 178,
          "metadata": {},
          "output_type": "execute_result"
        }
      ],
      "source": [
        "stats.wilcoxon(random_functions_df[random_functions_df['predictor'] == 'CodeT5ValuePredictor_coarse_grained_deterministic']['covered_lines_percentage'], random_functions_df[random_functions_df['predictor'] == 'CodeT5ValuePredictor_coarse_grained_randomized']['covered_lines_percentage'])"
      ]
    },
    {
      "cell_type": "code",
      "execution_count": 179,
      "metadata": {
        "colab": {
          "base_uri": "https://localhost:8080/"
        },
        "id": "2WfYuHf_GU_m",
        "outputId": "ce14e5fe-09f2-4ae0-c994-bfa43525afdd"
      },
      "outputs": [
        {
          "data": {
            "text/plain": [
              "WilcoxonResult(statistic=281.0, pvalue=0.19416837666185682)"
            ]
          },
          "execution_count": 179,
          "metadata": {},
          "output_type": "execute_result"
        }
      ],
      "source": [
        "stats.wilcoxon(random_functions_df[random_functions_df['predictor'] == 'CodeT5ValuePredictor_coarse_grained_deterministic']['covered_lines_percentage'], random_functions_df[random_functions_df['predictor'] == 'CodeT5ValuePredictor_fine_grained']['covered_lines_percentage'])"
      ]
    },
    {
      "cell_type": "markdown",
      "metadata": {
        "id": "cq3-p2MSK3l5"
      },
      "source": [
        "CodeT5ValuePredictor_coarse_grained_randomized vs others"
      ]
    },
    {
      "cell_type": "code",
      "execution_count": 180,
      "metadata": {
        "colab": {
          "base_uri": "https://localhost:8080/"
        },
        "id": "v7twmdeQGcww",
        "outputId": "20bec486-5991-4fce-b5c6-edb68db752f8"
      },
      "outputs": [
        {
          "data": {
            "text/plain": [
              "WilcoxonResult(statistic=836.5, pvalue=0.011389453463694492)"
            ]
          },
          "execution_count": 180,
          "metadata": {},
          "output_type": "execute_result"
        }
      ],
      "source": [
        "stats.wilcoxon(random_functions_df[random_functions_df['predictor'] == 'CodeT5ValuePredictor_coarse_grained_randomized']['covered_lines_percentage'], random_functions_df[random_functions_df['predictor'] == 'CodeT5ValuePredictor_fine_grained']['covered_lines_percentage'])"
      ]
    },
    {
      "cell_type": "markdown",
      "metadata": {
        "id": "BZ3YIIj_GPUv"
      },
      "source": [
        "## SO snippets"
      ]
    },
    {
      "cell_type": "markdown",
      "metadata": {
        "id": "PmDuDEz_GcKK"
      },
      "source": [
        "Load Evaluation Data"
      ]
    },
    {
      "cell_type": "code",
      "execution_count": null,
      "metadata": {
        "id": "JsvBNWzqGfJ5"
      },
      "outputs": [],
      "source": [
        "so_snippets_df = pd.read_csv('/metrics_so_snippets_dataset.csv')\n",
        "so_snippets_df"
      ]
    },
    {
      "cell_type": "code",
      "execution_count": null,
      "metadata": {
        "id": "pCIhLI5lNX5Q"
      },
      "outputs": [],
      "source": [
        "so_snippets_total_lines_df = pd.read_csv('/total_lines_so_snippets_dataset.csv')"
      ]
    },
    {
      "cell_type": "code",
      "execution_count": 183,
      "metadata": {
        "id": "SGfn03vx8txo"
      },
      "outputs": [],
      "source": [
        "so_snippets_As_Is_df = so_snippets_df[so_snippets_df['predictor'] == 'AsIs']\n",
        "files_with_results_As_Is = so_snippets_As_Is_df.file.unique()\n",
        "files_without_results_As_Is = so_snippets_total_lines_df[~so_snippets_total_lines_df['file'].isin(files_with_results_As_Is)]\n",
        "\n",
        "so_snippets_Naive_df = so_snippets_df[so_snippets_df['predictor'] == 'NaiveValuePredictor']\n",
        "files_with_results_Naive = so_snippets_Naive_df.file.unique()\n",
        "files_without_results_Naive = so_snippets_total_lines_df[~so_snippets_total_lines_df['file'].isin(files_with_results_Naive)]\n",
        "\n",
        "so_snippets_Random_df = so_snippets_df[so_snippets_df['predictor'] == 'RandomPredictor']\n",
        "files_with_results_Random = so_snippets_Random_df.file.unique()\n",
        "files_without_results_Random = so_snippets_total_lines_df[~so_snippets_total_lines_df['file'].isin(files_with_results_Random)]\n",
        "\n",
        "so_snippets_Frequency_df = so_snippets_df[so_snippets_df['predictor'] == 'FrequencyValuePredictor']\n",
        "files_with_results_Frequency = so_snippets_Frequency_df.file.unique()\n",
        "files_without_results_Frequency = so_snippets_total_lines_df[~so_snippets_total_lines_df['file'].isin(files_with_results_Frequency)]\n",
        "\n",
        "so_snippets_Fine_Grained_df = so_snippets_df[so_snippets_df['predictor'] == 'CodeT5ValuePredictor_fine_grained']\n",
        "files_with_results_Fine_Grained = so_snippets_Fine_Grained_df.file.unique()\n",
        "files_without_results_Fine_Grained = so_snippets_total_lines_df[~so_snippets_total_lines_df['file'].isin(files_with_results_Fine_Grained)]\n",
        "\n",
        "so_snippets_Deterministic_df = so_snippets_df[so_snippets_df['predictor'] == 'CodeT5ValuePredictor_coarse_grained_deterministic']\n",
        "files_with_results_Deterministic = so_snippets_Deterministic_df.file.unique()\n",
        "files_without_results_Deterministic = so_snippets_total_lines_df[~so_snippets_total_lines_df['file'].isin(files_with_results_Deterministic)]\n",
        "\n",
        "so_snippets_Randomized_df = so_snippets_df[so_snippets_df['predictor'] == 'CodeT5ValuePredictor_coarse_grained_randomized']\n",
        "files_with_results_Randomized = so_snippets_Randomized_df.file.unique()\n",
        "files_without_results_Randomized = so_snippets_total_lines_df[~so_snippets_total_lines_df['file'].isin(files_with_results_Randomized)]"
      ]
    },
    {
      "cell_type": "code",
      "execution_count": null,
      "metadata": {
        "id": "VQN6Dkhu-KZ8"
      },
      "outputs": [],
      "source": [
        "files_without_results_As_Is = files_without_results_As_Is\n",
        "files_without_results_As_Is['predictor'] = 'AsIs'\n",
        "files_without_results_As_Is['covered_iids'] = 0\n",
        "files_without_results_As_Is['total_uses'] = 0\n",
        "files_without_results_As_Is['guided_uses'] = 0\n",
        "files_without_results_As_Is['executed_lines'] = 0\n",
        "files_without_results_As_Is['covered_lines'] = 0\n",
        "files_without_results_As_Is['execution_time'] = 0\n",
        "\n",
        "files_without_results_Naive = files_without_results_Naive\n",
        "files_without_results_Naive['predictor'] = 'NaiveValuePredictor'\n",
        "files_without_results_Naive['covered_iids'] = 0\n",
        "files_without_results_Naive['total_uses'] = 0\n",
        "files_without_results_Naive['guided_uses'] = 0\n",
        "files_without_results_Naive['executed_lines'] = 0\n",
        "files_without_results_Naive['covered_lines'] = 0\n",
        "files_without_results_Naive['execution_time'] = 0\n",
        "\n",
        "files_without_results_Random = files_without_results_Random\n",
        "files_without_results_Random['predictor'] = 'RandomPredictor'\n",
        "files_without_results_Random['covered_iids'] = 0\n",
        "files_without_results_Random['total_uses'] = 0\n",
        "files_without_results_Random['guided_uses'] = 0\n",
        "files_without_results_Random['executed_lines'] = 0\n",
        "files_without_results_Random['covered_lines'] = 0\n",
        "files_without_results_Random['execution_time'] = 0\n",
        "\n",
        "files_without_results_Frequency = files_without_results_Frequency\n",
        "files_without_results_Frequency['predictor'] = 'FrequencyValuePredictor'\n",
        "files_without_results_Frequency['covered_iids'] = 0\n",
        "files_without_results_Frequency['total_uses'] = 0\n",
        "files_without_results_Frequency['guided_uses'] = 0\n",
        "files_without_results_Frequency['executed_lines'] = 0\n",
        "files_without_results_Frequency['covered_lines'] = 0\n",
        "files_without_results_Frequency['execution_time'] = 0\n",
        "\n",
        "files_without_results_Fine_Grained = files_without_results_Fine_Grained\n",
        "files_without_results_Fine_Grained['predictor'] = 'CodeT5ValuePredictor_fine_grained'\n",
        "files_without_results_Fine_Grained['covered_iids'] = 0\n",
        "files_without_results_Fine_Grained['total_uses'] = 0\n",
        "files_without_results_Fine_Grained['guided_uses'] = 0\n",
        "files_without_results_Fine_Grained['executed_lines'] = 0\n",
        "files_without_results_Fine_Grained['covered_lines'] = 0\n",
        "files_without_results_Fine_Grained['execution_time'] = 0\n",
        "\n",
        "files_without_results_Deterministic = files_without_results_Deterministic\n",
        "files_without_results_Deterministic['predictor'] = 'CodeT5ValuePredictor_coarse_grained_deterministic'\n",
        "files_without_results_Deterministic['covered_iids'] = 0\n",
        "files_without_results_Deterministic['total_uses'] = 0\n",
        "files_without_results_Deterministic['guided_uses'] = 0\n",
        "files_without_results_Deterministic['executed_lines'] = 0\n",
        "files_without_results_Deterministic['covered_lines'] = 0\n",
        "files_without_results_Deterministic['execution_time'] = 0\n",
        "\n",
        "files_without_results_Randomized = files_without_results_Randomized\n",
        "files_without_results_Randomized['predictor'] = 'CodeT5ValuePredictor_coarse_grained_randomized'\n",
        "files_without_results_Randomized['covered_iids'] = 0\n",
        "files_without_results_Randomized['total_uses'] = 0\n",
        "files_without_results_Randomized['guided_uses'] = 0\n",
        "files_without_results_Randomized['executed_lines'] = 0\n",
        "files_without_results_Randomized['covered_lines'] = 0\n",
        "files_without_results_Randomized['execution_time'] = 0"
      ]
    },
    {
      "cell_type": "code",
      "execution_count": null,
      "metadata": {
        "id": "PSY1aElDNydw"
      },
      "outputs": [],
      "source": [
        "so_snippets_df = so_snippets_df.merge(so_snippets_total_lines_df, how='left', on='file')\n",
        "so_snippets_df"
      ]
    },
    {
      "cell_type": "code",
      "execution_count": null,
      "metadata": {
        "id": "V5ncsuh7-djV"
      },
      "outputs": [],
      "source": [
        "so_snippets_df = pd.concat([so_snippets_df, files_without_results_As_Is])\n",
        "so_snippets_df = pd.concat([so_snippets_df, files_without_results_Naive])\n",
        "so_snippets_df = pd.concat([so_snippets_df, files_without_results_Random])\n",
        "so_snippets_df = pd.concat([so_snippets_df, files_without_results_Frequency])\n",
        "so_snippets_df = pd.concat([so_snippets_df, files_without_results_Fine_Grained])\n",
        "so_snippets_df = pd.concat([so_snippets_df, files_without_results_Deterministic])\n",
        "so_snippets_df = pd.concat([so_snippets_df, files_without_results_Randomized])\n",
        "so_snippets_df"
      ]
    },
    {
      "cell_type": "code",
      "execution_count": null,
      "metadata": {
        "id": "LbqDNojJOLwc"
      },
      "outputs": [],
      "source": [
        "so_snippets_df['covered_lines_percentage'] = so_snippets_df['covered_lines'] / so_snippets_df['total_lines']\n",
        "so_snippets_df['line_execution_time'] = so_snippets_df['execution_time'] / so_snippets_df['executed_lines']\n",
        "so_snippets_df['completely_executed'] = so_snippets_df['total_lines'] - so_snippets_df['covered_lines']\n",
        "so_snippets_df['completely_executed'] = [1 if value == 0 else 0 for value in so_snippets_df['completely_executed']]\n",
        "so_snippets_df.replace([np.inf, -np.inf], 0, inplace=True)\n",
        "so_snippets_df"
      ]
    },
    {
      "cell_type": "markdown",
      "metadata": {
        "id": "sji_UfoGGovq"
      },
      "source": [
        "Overall Comparisson"
      ]
    },
    {
      "cell_type": "code",
      "execution_count": 188,
      "metadata": {
        "colab": {
          "base_uri": "https://localhost:8080/",
          "height": 399
        },
        "id": "2HkXhY1JGpXE",
        "outputId": "2268eba2-3b5d-4e44-9b89-126f33f5827f"
      },
      "outputs": [
        {
          "data": {
            "text/html": [
              "\n",
              "  <div id=\"df-0633535e-126d-4651-b3c1-74377de2e0c5\">\n",
              "    <div class=\"colab-df-container\">\n",
              "      <div>\n",
              "<style scoped>\n",
              "    .dataframe tbody tr th:only-of-type {\n",
              "        vertical-align: middle;\n",
              "    }\n",
              "\n",
              "    .dataframe tbody tr th {\n",
              "        vertical-align: top;\n",
              "    }\n",
              "\n",
              "    .dataframe thead th {\n",
              "        text-align: right;\n",
              "    }\n",
              "</style>\n",
              "<table border=\"1\" class=\"dataframe\">\n",
              "  <thead>\n",
              "    <tr style=\"text-align: right;\">\n",
              "      <th></th>\n",
              "      <th>covered_iids</th>\n",
              "      <th>total_uses</th>\n",
              "      <th>guided_uses</th>\n",
              "      <th>covered_lines</th>\n",
              "      <th>executed_lines</th>\n",
              "      <th>execution_time</th>\n",
              "      <th>completely_executed</th>\n",
              "      <th>Approach</th>\n",
              "    </tr>\n",
              "    <tr>\n",
              "      <th>predictor</th>\n",
              "      <th></th>\n",
              "      <th></th>\n",
              "      <th></th>\n",
              "      <th></th>\n",
              "      <th></th>\n",
              "      <th></th>\n",
              "      <th></th>\n",
              "      <th></th>\n",
              "    </tr>\n",
              "  </thead>\n",
              "  <tbody>\n",
              "    <tr>\n",
              "      <th>AsIs</th>\n",
              "      <td>2722.0</td>\n",
              "      <td>19208.0</td>\n",
              "      <td>0.0</td>\n",
              "      <td>1293.0</td>\n",
              "      <td>6372.0</td>\n",
              "      <td>72.370769</td>\n",
              "      <td>140</td>\n",
              "      <td>As Is</td>\n",
              "    </tr>\n",
              "    <tr>\n",
              "      <th>CodeT5ValuePredictor_coarse_grained_deterministic</th>\n",
              "      <td>4036.0</td>\n",
              "      <td>41608.0</td>\n",
              "      <td>4267.0</td>\n",
              "      <td>1659.0</td>\n",
              "      <td>8323.0</td>\n",
              "      <td>160.959619</td>\n",
              "      <td>225</td>\n",
              "      <td>Coarse-grained \\n(deterministic)</td>\n",
              "    </tr>\n",
              "    <tr>\n",
              "      <th>CodeT5ValuePredictor_coarse_grained_randomized</th>\n",
              "      <td>3976.0</td>\n",
              "      <td>42026.0</td>\n",
              "      <td>4258.0</td>\n",
              "      <td>1648.0</td>\n",
              "      <td>8451.0</td>\n",
              "      <td>163.063255</td>\n",
              "      <td>221</td>\n",
              "      <td>Coarse-grained \\n(randomized)</td>\n",
              "    </tr>\n",
              "    <tr>\n",
              "      <th>CodeT5ValuePredictor_fine_grained</th>\n",
              "      <td>4036.0</td>\n",
              "      <td>44740.0</td>\n",
              "      <td>4127.0</td>\n",
              "      <td>1660.0</td>\n",
              "      <td>9030.0</td>\n",
              "      <td>187.429917</td>\n",
              "      <td>225</td>\n",
              "      <td>Fine-grained</td>\n",
              "    </tr>\n",
              "    <tr>\n",
              "      <th>FrequencyValuePredictor</th>\n",
              "      <td>3228.0</td>\n",
              "      <td>16533.0</td>\n",
              "      <td>510.0</td>\n",
              "      <td>1354.0</td>\n",
              "      <td>5481.0</td>\n",
              "      <td>65.053628</td>\n",
              "      <td>149</td>\n",
              "      <td>Naive</td>\n",
              "    </tr>\n",
              "    <tr>\n",
              "      <th>NaiveValuePredictor</th>\n",
              "      <td>3218.0</td>\n",
              "      <td>11585.0</td>\n",
              "      <td>510.0</td>\n",
              "      <td>1353.0</td>\n",
              "      <td>4249.0</td>\n",
              "      <td>47.802054</td>\n",
              "      <td>149</td>\n",
              "      <td>Frequency</td>\n",
              "    </tr>\n",
              "    <tr>\n",
              "      <th>RandomPredictor</th>\n",
              "      <td>3244.0</td>\n",
              "      <td>11804.0</td>\n",
              "      <td>949.0</td>\n",
              "      <td>1351.0</td>\n",
              "      <td>4185.0</td>\n",
              "      <td>47.210649</td>\n",
              "      <td>150</td>\n",
              "      <td>Random</td>\n",
              "    </tr>\n",
              "  </tbody>\n",
              "</table>\n",
              "</div>\n",
              "      <button class=\"colab-df-convert\" onclick=\"convertToInteractive('df-0633535e-126d-4651-b3c1-74377de2e0c5')\"\n",
              "              title=\"Convert this dataframe to an interactive table.\"\n",
              "              style=\"display:none;\">\n",
              "        \n",
              "  <svg xmlns=\"http://www.w3.org/2000/svg\" height=\"24px\"viewBox=\"0 0 24 24\"\n",
              "       width=\"24px\">\n",
              "    <path d=\"M0 0h24v24H0V0z\" fill=\"none\"/>\n",
              "    <path d=\"M18.56 5.44l.94 2.06.94-2.06 2.06-.94-2.06-.94-.94-2.06-.94 2.06-2.06.94zm-11 1L8.5 8.5l.94-2.06 2.06-.94-2.06-.94L8.5 2.5l-.94 2.06-2.06.94zm10 10l.94 2.06.94-2.06 2.06-.94-2.06-.94-.94-2.06-.94 2.06-2.06.94z\"/><path d=\"M17.41 7.96l-1.37-1.37c-.4-.4-.92-.59-1.43-.59-.52 0-1.04.2-1.43.59L10.3 9.45l-7.72 7.72c-.78.78-.78 2.05 0 2.83L4 21.41c.39.39.9.59 1.41.59.51 0 1.02-.2 1.41-.59l7.78-7.78 2.81-2.81c.8-.78.8-2.07 0-2.86zM5.41 20L4 18.59l7.72-7.72 1.47 1.35L5.41 20z\"/>\n",
              "  </svg>\n",
              "      </button>\n",
              "      \n",
              "  <style>\n",
              "    .colab-df-container {\n",
              "      display:flex;\n",
              "      flex-wrap:wrap;\n",
              "      gap: 12px;\n",
              "    }\n",
              "\n",
              "    .colab-df-convert {\n",
              "      background-color: #E8F0FE;\n",
              "      border: none;\n",
              "      border-radius: 50%;\n",
              "      cursor: pointer;\n",
              "      display: none;\n",
              "      fill: #1967D2;\n",
              "      height: 32px;\n",
              "      padding: 0 0 0 0;\n",
              "      width: 32px;\n",
              "    }\n",
              "\n",
              "    .colab-df-convert:hover {\n",
              "      background-color: #E2EBFA;\n",
              "      box-shadow: 0px 1px 2px rgba(60, 64, 67, 0.3), 0px 1px 3px 1px rgba(60, 64, 67, 0.15);\n",
              "      fill: #174EA6;\n",
              "    }\n",
              "\n",
              "    [theme=dark] .colab-df-convert {\n",
              "      background-color: #3B4455;\n",
              "      fill: #D2E3FC;\n",
              "    }\n",
              "\n",
              "    [theme=dark] .colab-df-convert:hover {\n",
              "      background-color: #434B5C;\n",
              "      box-shadow: 0px 1px 3px 1px rgba(0, 0, 0, 0.15);\n",
              "      filter: drop-shadow(0px 1px 2px rgba(0, 0, 0, 0.3));\n",
              "      fill: #FFFFFF;\n",
              "    }\n",
              "  </style>\n",
              "\n",
              "      <script>\n",
              "        const buttonEl =\n",
              "          document.querySelector('#df-0633535e-126d-4651-b3c1-74377de2e0c5 button.colab-df-convert');\n",
              "        buttonEl.style.display =\n",
              "          google.colab.kernel.accessAllowed ? 'block' : 'none';\n",
              "\n",
              "        async function convertToInteractive(key) {\n",
              "          const element = document.querySelector('#df-0633535e-126d-4651-b3c1-74377de2e0c5');\n",
              "          const dataTable =\n",
              "            await google.colab.kernel.invokeFunction('convertToInteractive',\n",
              "                                                     [key], {});\n",
              "          if (!dataTable) return;\n",
              "\n",
              "          const docLinkHtml = 'Like what you see? Visit the ' +\n",
              "            '<a target=\"_blank\" href=https://colab.research.google.com/notebooks/data_table.ipynb>data table notebook</a>'\n",
              "            + ' to learn more about interactive tables.';\n",
              "          element.innerHTML = '';\n",
              "          dataTable['output_type'] = 'display_data';\n",
              "          await google.colab.output.renderOutput(dataTable, element);\n",
              "          const docLink = document.createElement('div');\n",
              "          docLink.innerHTML = docLinkHtml;\n",
              "          element.appendChild(docLink);\n",
              "        }\n",
              "      </script>\n",
              "    </div>\n",
              "  </div>\n",
              "  "
            ],
            "text/plain": [
              "                                                   covered_iids  total_uses  \\\n",
              "predictor                                                                     \n",
              "AsIs                                                     2722.0     19208.0   \n",
              "CodeT5ValuePredictor_coarse_grained_deterministic        4036.0     41608.0   \n",
              "CodeT5ValuePredictor_coarse_grained_randomized           3976.0     42026.0   \n",
              "CodeT5ValuePredictor_fine_grained                        4036.0     44740.0   \n",
              "FrequencyValuePredictor                                  3228.0     16533.0   \n",
              "NaiveValuePredictor                                      3218.0     11585.0   \n",
              "RandomPredictor                                          3244.0     11804.0   \n",
              "\n",
              "                                                   guided_uses  covered_lines  \\\n",
              "predictor                                                                       \n",
              "AsIs                                                       0.0         1293.0   \n",
              "CodeT5ValuePredictor_coarse_grained_deterministic       4267.0         1659.0   \n",
              "CodeT5ValuePredictor_coarse_grained_randomized          4258.0         1648.0   \n",
              "CodeT5ValuePredictor_fine_grained                       4127.0         1660.0   \n",
              "FrequencyValuePredictor                                  510.0         1354.0   \n",
              "NaiveValuePredictor                                      510.0         1353.0   \n",
              "RandomPredictor                                          949.0         1351.0   \n",
              "\n",
              "                                                   executed_lines  \\\n",
              "predictor                                                           \n",
              "AsIs                                                       6372.0   \n",
              "CodeT5ValuePredictor_coarse_grained_deterministic          8323.0   \n",
              "CodeT5ValuePredictor_coarse_grained_randomized             8451.0   \n",
              "CodeT5ValuePredictor_fine_grained                          9030.0   \n",
              "FrequencyValuePredictor                                    5481.0   \n",
              "NaiveValuePredictor                                        4249.0   \n",
              "RandomPredictor                                            4185.0   \n",
              "\n",
              "                                                   execution_time  \\\n",
              "predictor                                                           \n",
              "AsIs                                                    72.370769   \n",
              "CodeT5ValuePredictor_coarse_grained_deterministic      160.959619   \n",
              "CodeT5ValuePredictor_coarse_grained_randomized         163.063255   \n",
              "CodeT5ValuePredictor_fine_grained                      187.429917   \n",
              "FrequencyValuePredictor                                 65.053628   \n",
              "NaiveValuePredictor                                     47.802054   \n",
              "RandomPredictor                                         47.210649   \n",
              "\n",
              "                                                   completely_executed  \\\n",
              "predictor                                                                \n",
              "AsIs                                                               140   \n",
              "CodeT5ValuePredictor_coarse_grained_deterministic                  225   \n",
              "CodeT5ValuePredictor_coarse_grained_randomized                     221   \n",
              "CodeT5ValuePredictor_fine_grained                                  225   \n",
              "FrequencyValuePredictor                                            149   \n",
              "NaiveValuePredictor                                                149   \n",
              "RandomPredictor                                                    150   \n",
              "\n",
              "                                                                           Approach  \n",
              "predictor                                                                            \n",
              "AsIs                                                                          As Is  \n",
              "CodeT5ValuePredictor_coarse_grained_deterministic  Coarse-grained \\n(deterministic)  \n",
              "CodeT5ValuePredictor_coarse_grained_randomized        Coarse-grained \\n(randomized)  \n",
              "CodeT5ValuePredictor_fine_grained                                      Fine-grained  \n",
              "FrequencyValuePredictor                                                       Naive  \n",
              "NaiveValuePredictor                                                       Frequency  \n",
              "RandomPredictor                                                              Random  "
            ]
          },
          "execution_count": 188,
          "metadata": {},
          "output_type": "execute_result"
        }
      ],
      "source": [
        "so_snippets_df_grouped = so_snippets_df.groupby(by=\"predictor\")[[\"covered_iids\",\"total_uses\",\"guided_uses\",\"covered_lines\",\"executed_lines\", \"execution_time\", \"completely_executed\"]].sum()\n",
        "so_snippets_df_grouped['Approach'] = ['As Is', 'Coarse-grained \\n(deterministic)', 'Coarse-grained \\n(randomized)', 'Fine-grained', 'Naive', 'Frequency', 'Random']\n",
        "so_snippets_df_grouped"
      ]
    },
    {
      "cell_type": "code",
      "execution_count": 189,
      "metadata": {
        "colab": {
          "base_uri": "https://localhost:8080/",
          "height": 942
        },
        "id": "hdLy2Wb5ixn2",
        "outputId": "8e2b16e4-d4a4-4603-a25a-10126f32dfca"
      },
      "outputs": [
        {
          "data": {
            "text/plain": [
              "Text(0.5, 0, 'Fully executed snippets (%)')"
            ]
          },
          "execution_count": 189,
          "metadata": {},
          "output_type": "execute_result"
        },
        {
          "data": {
            "image/png": "[encoded data removed]",
            "text/plain": [
              "<Figure size 1080x1080 with 1 Axes>"
            ]
          },
          "metadata": {
            "needs_background": "light"
          },
          "output_type": "display_data"
        }
      ],
      "source": [
        "so_snippets_df_grouped = so_snippets_df_grouped.sort_values(by=['completely_executed'])\n",
        "so_snippets_df_grouped['completely_executed'] = [x * 100 for x in so_snippets_df_grouped['completely_executed'] / 462]\n",
        "\n",
        "#plt.figure(figsize=(60,6))\n",
        "so_snippets_df_grouped.plot.barh(x='Approach', y=['completely_executed'], color='gray', legend=None)\n",
        "plt.rcParams.update({'font.size': 35})\n",
        "#plt.rcParams[\"figure.figsize\"] = (15,15)\n",
        "plt.xlabel(\"Fully executed snippets (%)\")"
      ]
    },
    {
      "cell_type": "code",
      "execution_count": null,
      "metadata": {
        "id": "TSErS9oKr8QA"
      },
      "outputs": [],
      "source": [
        "so_snippets_df_grouped"
      ]
    },
    {
      "cell_type": "code",
      "execution_count": null,
      "metadata": {
        "id": "9fY6LHO92JpU"
      },
      "outputs": [],
      "source": [
        "so_snippets_df_grouped[\"covered_lines_percentage_\"] = so_snippets_df_grouped[\"covered_lines\"] / [so_snippets_total_lines_df['total_lines'].sum() for e in so_snippets_df_grouped[\"covered_lines\"]]\n",
        "so_snippets_df_grouped[\"line_execution_time_\"] = so_snippets_df_grouped[\"execution_time\"] / so_snippets_df_grouped['executed_lines']\n",
        "so_snippets_df_grouped"
      ]
    },
    {
      "cell_type": "code",
      "execution_count": 192,
      "metadata": {
        "colab": {
          "base_uri": "https://localhost:8080/",
          "height": 300
        },
        "id": "VkEKxqtCTQQW",
        "outputId": "e8e046df-c0a5-4b41-8462-e91745700b96"
      },
      "outputs": [
        {
          "data": {
            "text/html": [
              "\n",
              "  <div id=\"df-e5c0eff4-ab6a-479d-8b75-d1672e7a8318\">\n",
              "    <div class=\"colab-df-container\">\n",
              "      <div>\n",
              "<style scoped>\n",
              "    .dataframe tbody tr th:only-of-type {\n",
              "        vertical-align: middle;\n",
              "    }\n",
              "\n",
              "    .dataframe tbody tr th {\n",
              "        vertical-align: top;\n",
              "    }\n",
              "\n",
              "    .dataframe thead th {\n",
              "        text-align: right;\n",
              "    }\n",
              "</style>\n",
              "<table border=\"1\" class=\"dataframe\">\n",
              "  <thead>\n",
              "    <tr style=\"text-align: right;\">\n",
              "      <th></th>\n",
              "      <th>covered_lines_percentage</th>\n",
              "      <th>completely_executed</th>\n",
              "      <th>line_execution_time</th>\n",
              "    </tr>\n",
              "    <tr>\n",
              "      <th>predictor</th>\n",
              "      <th></th>\n",
              "      <th></th>\n",
              "      <th></th>\n",
              "    </tr>\n",
              "  </thead>\n",
              "  <tbody>\n",
              "    <tr>\n",
              "      <th>AsIs</th>\n",
              "      <td>0.438320</td>\n",
              "      <td>0.303030</td>\n",
              "      <td>0.005194</td>\n",
              "    </tr>\n",
              "    <tr>\n",
              "      <th>CodeT5ValuePredictor_coarse_grained_deterministic</th>\n",
              "      <td>0.644107</td>\n",
              "      <td>0.487013</td>\n",
              "      <td>0.046232</td>\n",
              "    </tr>\n",
              "    <tr>\n",
              "      <th>CodeT5ValuePredictor_coarse_grained_randomized</th>\n",
              "      <td>0.636017</td>\n",
              "      <td>0.478355</td>\n",
              "      <td>0.046305</td>\n",
              "    </tr>\n",
              "    <tr>\n",
              "      <th>CodeT5ValuePredictor_fine_grained</th>\n",
              "      <td>0.644650</td>\n",
              "      <td>0.487013</td>\n",
              "      <td>0.047288</td>\n",
              "    </tr>\n",
              "    <tr>\n",
              "      <th>FrequencyValuePredictor</th>\n",
              "      <td>0.462618</td>\n",
              "      <td>0.322511</td>\n",
              "      <td>0.005729</td>\n",
              "    </tr>\n",
              "    <tr>\n",
              "      <th>NaiveValuePredictor</th>\n",
              "      <td>0.462524</td>\n",
              "      <td>0.322511</td>\n",
              "      <td>0.005421</td>\n",
              "    </tr>\n",
              "    <tr>\n",
              "      <th>RandomPredictor</th>\n",
              "      <td>0.467145</td>\n",
              "      <td>0.324675</td>\n",
              "      <td>0.005927</td>\n",
              "    </tr>\n",
              "  </tbody>\n",
              "</table>\n",
              "</div>\n",
              "      <button class=\"colab-df-convert\" onclick=\"convertToInteractive('df-e5c0eff4-ab6a-479d-8b75-d1672e7a8318')\"\n",
              "              title=\"Convert this dataframe to an interactive table.\"\n",
              "              style=\"display:none;\">\n",
              "        \n",
              "  <svg xmlns=\"http://www.w3.org/2000/svg\" height=\"24px\"viewBox=\"0 0 24 24\"\n",
              "       width=\"24px\">\n",
              "    <path d=\"M0 0h24v24H0V0z\" fill=\"none\"/>\n",
              "    <path d=\"M18.56 5.44l.94 2.06.94-2.06 2.06-.94-2.06-.94-.94-2.06-.94 2.06-2.06.94zm-11 1L8.5 8.5l.94-2.06 2.06-.94-2.06-.94L8.5 2.5l-.94 2.06-2.06.94zm10 10l.94 2.06.94-2.06 2.06-.94-2.06-.94-.94-2.06-.94 2.06-2.06.94z\"/><path d=\"M17.41 7.96l-1.37-1.37c-.4-.4-.92-.59-1.43-.59-.52 0-1.04.2-1.43.59L10.3 9.45l-7.72 7.72c-.78.78-.78 2.05 0 2.83L4 21.41c.39.39.9.59 1.41.59.51 0 1.02-.2 1.41-.59l7.78-7.78 2.81-2.81c.8-.78.8-2.07 0-2.86zM5.41 20L4 18.59l7.72-7.72 1.47 1.35L5.41 20z\"/>\n",
              "  </svg>\n",
              "      </button>\n",
              "      \n",
              "  <style>\n",
              "    .colab-df-container {\n",
              "      display:flex;\n",
              "      flex-wrap:wrap;\n",
              "      gap: 12px;\n",
              "    }\n",
              "\n",
              "    .colab-df-convert {\n",
              "      background-color: #E8F0FE;\n",
              "      border: none;\n",
              "      border-radius: 50%;\n",
              "      cursor: pointer;\n",
              "      display: none;\n",
              "      fill: #1967D2;\n",
              "      height: 32px;\n",
              "      padding: 0 0 0 0;\n",
              "      width: 32px;\n",
              "    }\n",
              "\n",
              "    .colab-df-convert:hover {\n",
              "      background-color: #E2EBFA;\n",
              "      box-shadow: 0px 1px 2px rgba(60, 64, 67, 0.3), 0px 1px 3px 1px rgba(60, 64, 67, 0.15);\n",
              "      fill: #174EA6;\n",
              "    }\n",
              "\n",
              "    [theme=dark] .colab-df-convert {\n",
              "      background-color: #3B4455;\n",
              "      fill: #D2E3FC;\n",
              "    }\n",
              "\n",
              "    [theme=dark] .colab-df-convert:hover {\n",
              "      background-color: #434B5C;\n",
              "      box-shadow: 0px 1px 3px 1px rgba(0, 0, 0, 0.15);\n",
              "      filter: drop-shadow(0px 1px 2px rgba(0, 0, 0, 0.3));\n",
              "      fill: #FFFFFF;\n",
              "    }\n",
              "  </style>\n",
              "\n",
              "      <script>\n",
              "        const buttonEl =\n",
              "          document.querySelector('#df-e5c0eff4-ab6a-479d-8b75-d1672e7a8318 button.colab-df-convert');\n",
              "        buttonEl.style.display =\n",
              "          google.colab.kernel.accessAllowed ? 'block' : 'none';\n",
              "\n",
              "        async function convertToInteractive(key) {\n",
              "          const element = document.querySelector('#df-e5c0eff4-ab6a-479d-8b75-d1672e7a8318');\n",
              "          const dataTable =\n",
              "            await google.colab.kernel.invokeFunction('convertToInteractive',\n",
              "                                                     [key], {});\n",
              "          if (!dataTable) return;\n",
              "\n",
              "          const docLinkHtml = 'Like what you see? Visit the ' +\n",
              "            '<a target=\"_blank\" href=https://colab.research.google.com/notebooks/data_table.ipynb>data table notebook</a>'\n",
              "            + ' to learn more about interactive tables.';\n",
              "          element.innerHTML = '';\n",
              "          dataTable['output_type'] = 'display_data';\n",
              "          await google.colab.output.renderOutput(dataTable, element);\n",
              "          const docLink = document.createElement('div');\n",
              "          docLink.innerHTML = docLinkHtml;\n",
              "          element.appendChild(docLink);\n",
              "        }\n",
              "      </script>\n",
              "    </div>\n",
              "  </div>\n",
              "  "
            ],
            "text/plain": [
              "                                                   covered_lines_percentage  \\\n",
              "predictor                                                                     \n",
              "AsIs                                                               0.438320   \n",
              "CodeT5ValuePredictor_coarse_grained_deterministic                  0.644107   \n",
              "CodeT5ValuePredictor_coarse_grained_randomized                     0.636017   \n",
              "CodeT5ValuePredictor_fine_grained                                  0.644650   \n",
              "FrequencyValuePredictor                                            0.462618   \n",
              "NaiveValuePredictor                                                0.462524   \n",
              "RandomPredictor                                                    0.467145   \n",
              "\n",
              "                                                   completely_executed  \\\n",
              "predictor                                                                \n",
              "AsIs                                                          0.303030   \n",
              "CodeT5ValuePredictor_coarse_grained_deterministic             0.487013   \n",
              "CodeT5ValuePredictor_coarse_grained_randomized                0.478355   \n",
              "CodeT5ValuePredictor_fine_grained                             0.487013   \n",
              "FrequencyValuePredictor                                       0.322511   \n",
              "NaiveValuePredictor                                           0.322511   \n",
              "RandomPredictor                                               0.324675   \n",
              "\n",
              "                                                   line_execution_time  \n",
              "predictor                                                               \n",
              "AsIs                                                          0.005194  \n",
              "CodeT5ValuePredictor_coarse_grained_deterministic             0.046232  \n",
              "CodeT5ValuePredictor_coarse_grained_randomized                0.046305  \n",
              "CodeT5ValuePredictor_fine_grained                             0.047288  \n",
              "FrequencyValuePredictor                                       0.005729  \n",
              "NaiveValuePredictor                                           0.005421  \n",
              "RandomPredictor                                               0.005927  "
            ]
          },
          "execution_count": 192,
          "metadata": {},
          "output_type": "execute_result"
        }
      ],
      "source": [
        "so_snippets_df_grouped = so_snippets_df.groupby(by=\"predictor\")[[\"covered_lines_percentage\", \"completely_executed\", \"line_execution_time\"]].mean()\n",
        "so_snippets_df_grouped"
      ]
    },
    {
      "cell_type": "code",
      "execution_count": null,
      "metadata": {
        "id": "JVC6pZL_jRbA"
      },
      "outputs": [],
      "source": [
        "so_snippets_df_covered_lines_per_predictor = pd.DataFrame()\n",
        "so_snippets_df_covered_lines_per_predictor['As Is'] = [x * 100 for x in so_snippets_df[so_snippets_df['predictor'] == 'AsIs']['covered_lines_percentage'].tolist()]\n",
        "so_snippets_df_covered_lines_per_predictor['Naive'] = [x * 100 for x in so_snippets_df[so_snippets_df['predictor'] == 'NaiveValuePredictor']['covered_lines_percentage'].tolist()]\n",
        "so_snippets_df_covered_lines_per_predictor['Frequency'] = [x * 100 for x in so_snippets_df[so_snippets_df['predictor'] == 'FrequencyValuePredictor']['covered_lines_percentage'].tolist()]\n",
        "so_snippets_df_covered_lines_per_predictor['Random'] = [x * 100 for x in so_snippets_df[so_snippets_df['predictor'] == 'RandomPredictor']['covered_lines_percentage'].tolist()]\n",
        "so_snippets_df_covered_lines_per_predictor['Coarse-grained \\n(randomized)'] = [x * 100 for x in so_snippets_df[so_snippets_df['predictor'] == 'CodeT5ValuePredictor_coarse_grained_randomized']['covered_lines_percentage'].tolist()]\n",
        "so_snippets_df_covered_lines_per_predictor['Coarse-grained \\n(deterministic)'] = [x * 100 for x in so_snippets_df[so_snippets_df['predictor'] == 'CodeT5ValuePredictor_coarse_grained_deterministic']['covered_lines_percentage'].tolist()]\n",
        "so_snippets_df_covered_lines_per_predictor['Fine-grained'] = [x * 100 for x in so_snippets_df[so_snippets_df['predictor'] == 'CodeT5ValuePredictor_fine_grained']['covered_lines_percentage'].tolist()]\n",
        "so_snippets_df_covered_lines_per_predictor"
      ]
    },
    {
      "cell_type": "code",
      "execution_count": 194,
      "metadata": {
        "colab": {
          "base_uri": "https://localhost:8080/",
          "height": 997
        },
        "id": "S57BzQLJj1ye",
        "outputId": "8bd13562-7d87-4af4-be9f-1eed63d41b22"
      },
      "outputs": [
        {
          "data": {
            "image/png": "[encoded data removed]",
            "text/plain": [
              "<Figure size 1080x1080 with 1 Axes>"
            ]
          },
          "metadata": {
            "needs_background": "light"
          },
          "output_type": "display_data"
        }
      ],
      "source": [
        "meanlineprops = dict(linestyle='--', linewidth=4, color='black')\n",
        "medianlineprops = dict(linestyle='-', linewidth=4, color='gray')\n",
        "flierprops = dict(marker='o',markerfacecolor='gray', markersize=12,\n",
        "                  linestyle='none', markeredgecolor='gray')\n",
        "\n",
        "#plt.figure(figsize=(36,6))\n",
        "so_snippets_df_covered_lines_per_predictor.plot.box(\n",
        "    showmeans=True, meanprops=meanlineprops, meanline=True, \n",
        "    medianprops=medianlineprops,\n",
        "    vert=0,\n",
        "    flierprops=flierprops);\n",
        "\n",
        "plt.rcParams.update({'font.size': 35})\n",
        "#plt.rcParams[\"figure.figsize\"] = (15,15)\n",
        "plt.xlabel(\"Line Coverage (%)\")\n",
        "plt.ylabel(\"Approach\")\n",
        "plt.plot([], [], '--', linewidth=4, color='black', label='mean')\n",
        "plt.plot([], [], '-', linewidth=4, color='gray', label='median')\n",
        "#plt.plot([], [], 'o', markersize=12, color='gray', label='fliers')\n",
        "plt.legend(loc='upper center', bbox_to_anchor=(0.5, 1.11), ncol=2)\n",
        "plt.savefig(\"snippets_dataset_LC.pdf\")"
      ]
    },
    {
      "cell_type": "markdown",
      "metadata": {
        "id": "2fXvCx9_RO0w"
      },
      "source": [
        "AsIs vs others"
      ]
    },
    {
      "cell_type": "code",
      "execution_count": 195,
      "metadata": {
        "colab": {
          "base_uri": "https://localhost:8080/"
        },
        "id": "fmySQNMKRUjT",
        "outputId": "1ddff66e-0c99-4304-ffa3-bf064d0ba2a1"
      },
      "outputs": [
        {
          "data": {
            "text/plain": [
              "WilcoxonResult(statistic=99.5, pvalue=1.6882223141716426e-24)"
            ]
          },
          "execution_count": 195,
          "metadata": {},
          "output_type": "execute_result"
        }
      ],
      "source": [
        "stats.wilcoxon(so_snippets_df[so_snippets_df['predictor'] == 'AsIs']['covered_lines_percentage'], so_snippets_df[so_snippets_df['predictor'] == 'CodeT5ValuePredictor_coarse_grained_randomized']['covered_lines_percentage'])"
      ]
    },
    {
      "cell_type": "code",
      "execution_count": 196,
      "metadata": {
        "colab": {
          "base_uri": "https://localhost:8080/"
        },
        "id": "HPjVYvvCRg6_",
        "outputId": "8a893838-0b9f-4901-ac4e-ceda1cc2ab96"
      },
      "outputs": [
        {
          "data": {
            "text/plain": [
              "WilcoxonResult(statistic=101.5, pvalue=3.224087395954022e-25)"
            ]
          },
          "execution_count": 196,
          "metadata": {},
          "output_type": "execute_result"
        }
      ],
      "source": [
        "stats.wilcoxon(so_snippets_df[so_snippets_df['predictor'] == 'AsIs']['covered_lines_percentage'], so_snippets_df[so_snippets_df['predictor'] == 'CodeT5ValuePredictor_coarse_grained_deterministic']['covered_lines_percentage'])"
      ]
    },
    {
      "cell_type": "code",
      "execution_count": 197,
      "metadata": {
        "colab": {
          "base_uri": "https://localhost:8080/"
        },
        "id": "_nvqrnIyRjGN",
        "outputId": "44361eea-4f45-41df-c161-4669fdfad167"
      },
      "outputs": [
        {
          "data": {
            "text/plain": [
              "WilcoxonResult(statistic=103.5, pvalue=2.2850541141512903e-25)"
            ]
          },
          "execution_count": 197,
          "metadata": {},
          "output_type": "execute_result"
        }
      ],
      "source": [
        "stats.wilcoxon(so_snippets_df[so_snippets_df['predictor'] == 'AsIs']['covered_lines_percentage'], so_snippets_df[so_snippets_df['predictor'] == 'CodeT5ValuePredictor_fine_grained']['covered_lines_percentage'])"
      ]
    },
    {
      "cell_type": "code",
      "execution_count": 198,
      "metadata": {
        "colab": {
          "base_uri": "https://localhost:8080/"
        },
        "id": "xuM-WFu3RjUM",
        "outputId": "fb828913-afbc-4b07-91ce-d7dab38fa61b"
      },
      "outputs": [
        {
          "data": {
            "text/plain": [
              "WilcoxonResult(statistic=0.0, pvalue=2.4562426093140745e-06)"
            ]
          },
          "execution_count": 198,
          "metadata": {},
          "output_type": "execute_result"
        }
      ],
      "source": [
        "stats.wilcoxon(so_snippets_df[so_snippets_df['predictor'] == 'AsIs']['covered_lines_percentage'], so_snippets_df[so_snippets_df['predictor'] == 'NaiveValuePredictor']['covered_lines_percentage'])"
      ]
    },
    {
      "cell_type": "code",
      "execution_count": 199,
      "metadata": {
        "colab": {
          "base_uri": "https://localhost:8080/"
        },
        "id": "SYeeV0twRjoS",
        "outputId": "b75192fc-bd44-457b-f325-25f50afaca47"
      },
      "outputs": [
        {
          "data": {
            "text/plain": [
              "WilcoxonResult(statistic=12617.0, pvalue=0.15933092253243653)"
            ]
          },
          "execution_count": 199,
          "metadata": {},
          "output_type": "execute_result"
        }
      ],
      "source": [
        "stats.wilcoxon(so_snippets_df[so_snippets_df['predictor'] == 'AsIs']['covered_lines_percentage'], so_snippets_df[so_snippets_df['predictor'] == 'RandomPredictor']['covered_lines_percentage'])"
      ]
    },
    {
      "cell_type": "code",
      "execution_count": 200,
      "metadata": {
        "colab": {
          "base_uri": "https://localhost:8080/"
        },
        "id": "d-qmZ2uIRjy8",
        "outputId": "cbc5d3ef-ea20-4782-87af-b7c6f3c9fbdc"
      },
      "outputs": [
        {
          "data": {
            "text/plain": [
              "WilcoxonResult(statistic=0.0, pvalue=1.666775499957924e-06)"
            ]
          },
          "execution_count": 200,
          "metadata": {},
          "output_type": "execute_result"
        }
      ],
      "source": [
        "stats.wilcoxon(so_snippets_df[so_snippets_df['predictor'] == 'AsIs']['covered_lines_percentage'], so_snippets_df[so_snippets_df['predictor'] == 'FrequencyValuePredictor']['covered_lines_percentage'])"
      ]
    },
    {
      "cell_type": "markdown",
      "metadata": {
        "id": "XXaWnqFBBBkq"
      },
      "source": [
        "CodeT5ValuePredictor_coarse_grained_deterministic vs others"
      ]
    },
    {
      "cell_type": "code",
      "execution_count": 201,
      "metadata": {
        "colab": {
          "base_uri": "https://localhost:8080/"
        },
        "id": "XmpnNgZ0BCVN",
        "outputId": "cc41a3e4-8c84-48a0-dc3d-07cb447c36ac"
      },
      "outputs": [
        {
          "data": {
            "text/plain": [
              "WilcoxonResult(statistic=101.5, pvalue=3.224087395954022e-25)"
            ]
          },
          "execution_count": 201,
          "metadata": {},
          "output_type": "execute_result"
        }
      ],
      "source": [
        "stats.wilcoxon(so_snippets_df[so_snippets_df['predictor'] == 'AsIs']['covered_lines_percentage'], so_snippets_df[so_snippets_df['predictor'] == 'CodeT5ValuePredictor_coarse_grained_deterministic']['covered_lines_percentage'])"
      ]
    },
    {
      "cell_type": "code",
      "execution_count": 202,
      "metadata": {
        "colab": {
          "base_uri": "https://localhost:8080/"
        },
        "id": "Zq3KQG7MDmaB",
        "outputId": "18425ea9-10e3-4be5-c44a-17949ca5b030"
      },
      "outputs": [
        {
          "data": {
            "text/plain": [
              "WilcoxonResult(statistic=135.5, pvalue=6.198238582769491e-22)"
            ]
          },
          "execution_count": 202,
          "metadata": {},
          "output_type": "execute_result"
        }
      ],
      "source": [
        "stats.wilcoxon(so_snippets_df[so_snippets_df['predictor'] == 'NaiveValuePredictor']['covered_lines_percentage'], so_snippets_df[so_snippets_df['predictor'] == 'CodeT5ValuePredictor_coarse_grained_deterministic']['covered_lines_percentage'])"
      ]
    },
    {
      "cell_type": "code",
      "execution_count": 203,
      "metadata": {
        "colab": {
          "base_uri": "https://localhost:8080/"
        },
        "id": "bbj0DbMhDmoW",
        "outputId": "df114040-51de-48ea-c803-53f67582ffe7"
      },
      "outputs": [
        {
          "data": {
            "text/plain": [
              "WilcoxonResult(statistic=142.5, pvalue=4.92888789372186e-22)"
            ]
          },
          "execution_count": 203,
          "metadata": {},
          "output_type": "execute_result"
        }
      ],
      "source": [
        "stats.wilcoxon(so_snippets_df[so_snippets_df['predictor'] == 'FrequencyValuePredictor']['covered_lines_percentage'], so_snippets_df[so_snippets_df['predictor'] == 'CodeT5ValuePredictor_coarse_grained_deterministic']['covered_lines_percentage'])"
      ]
    },
    {
      "cell_type": "code",
      "execution_count": 204,
      "metadata": {
        "colab": {
          "base_uri": "https://localhost:8080/"
        },
        "id": "MN5_-rxUDm04",
        "outputId": "8e730e44-d467-4bd1-f627-f0c04a53b8de"
      },
      "outputs": [
        {
          "data": {
            "text/plain": [
              "WilcoxonResult(statistic=9490.5, pvalue=9.286193442591195e-13)"
            ]
          },
          "execution_count": 204,
          "metadata": {},
          "output_type": "execute_result"
        }
      ],
      "source": [
        "stats.wilcoxon(so_snippets_df[so_snippets_df['predictor'] == 'RandomPredictor']['covered_lines_percentage'], so_snippets_df[so_snippets_df['predictor'] == 'CodeT5ValuePredictor_coarse_grained_deterministic']['covered_lines_percentage'])"
      ]
    },
    {
      "cell_type": "markdown",
      "metadata": {
        "id": "VveVv90qBIE5"
      },
      "source": [
        "CodeT5ValuePredictor_coarse_grained_randomized vs others"
      ]
    },
    {
      "cell_type": "code",
      "execution_count": 205,
      "metadata": {
        "colab": {
          "base_uri": "https://localhost:8080/"
        },
        "id": "42AYq1amBNCD",
        "outputId": "73322258-6ed2-4ae8-e532-e0fe0adb1bc3"
      },
      "outputs": [
        {
          "data": {
            "text/plain": [
              "WilcoxonResult(statistic=99.5, pvalue=1.6882223141716426e-24)"
            ]
          },
          "execution_count": 205,
          "metadata": {},
          "output_type": "execute_result"
        }
      ],
      "source": [
        "stats.wilcoxon(so_snippets_df[so_snippets_df['predictor'] == 'AsIs']['covered_lines_percentage'], so_snippets_df[so_snippets_df['predictor'] == 'CodeT5ValuePredictor_coarse_grained_randomized']['covered_lines_percentage'])"
      ]
    },
    {
      "cell_type": "code",
      "execution_count": 206,
      "metadata": {
        "colab": {
          "base_uri": "https://localhost:8080/"
        },
        "id": "6MOm2GvlEGKB",
        "outputId": "12fe8da8-34bf-4e8b-a0f4-f0d0b7329a51"
      },
      "outputs": [
        {
          "data": {
            "text/plain": [
              "WilcoxonResult(statistic=154.5, pvalue=3.73266376989976e-21)"
            ]
          },
          "execution_count": 206,
          "metadata": {},
          "output_type": "execute_result"
        }
      ],
      "source": [
        "stats.wilcoxon(so_snippets_df[so_snippets_df['predictor'] == 'NaiveValuePredictor']['covered_lines_percentage'], so_snippets_df[so_snippets_df['predictor'] == 'CodeT5ValuePredictor_coarse_grained_randomized']['covered_lines_percentage'])"
      ]
    },
    {
      "cell_type": "code",
      "execution_count": 207,
      "metadata": {
        "colab": {
          "base_uri": "https://localhost:8080/"
        },
        "id": "xITgQ3W9EGR1",
        "outputId": "50703c21-3ff0-4bdb-a713-f2956bb5e331"
      },
      "outputs": [
        {
          "data": {
            "text/plain": [
              "WilcoxonResult(statistic=9557.0, pvalue=5.669727473165634e-12)"
            ]
          },
          "execution_count": 207,
          "metadata": {},
          "output_type": "execute_result"
        }
      ],
      "source": [
        "stats.wilcoxon(so_snippets_df[so_snippets_df['predictor'] == 'RandomPredictor']['covered_lines_percentage'], so_snippets_df[so_snippets_df['predictor'] == 'CodeT5ValuePredictor_coarse_grained_randomized']['covered_lines_percentage'])"
      ]
    },
    {
      "cell_type": "code",
      "execution_count": 208,
      "metadata": {
        "colab": {
          "base_uri": "https://localhost:8080/"
        },
        "id": "xIGGkMyOEGZY",
        "outputId": "d287c8a3-42fc-456a-bf9d-2f8f420f9745"
      },
      "outputs": [
        {
          "data": {
            "text/plain": [
              "WilcoxonResult(statistic=162.5, pvalue=3.0253487560082597e-21)"
            ]
          },
          "execution_count": 208,
          "metadata": {},
          "output_type": "execute_result"
        }
      ],
      "source": [
        "stats.wilcoxon(so_snippets_df[so_snippets_df['predictor'] == 'FrequencyValuePredictor']['covered_lines_percentage'], so_snippets_df[so_snippets_df['predictor'] == 'CodeT5ValuePredictor_coarse_grained_randomized']['covered_lines_percentage'])"
      ]
    },
    {
      "cell_type": "markdown",
      "metadata": {
        "id": "S6zsM4-_BOLs"
      },
      "source": [
        "CodeT5ValuePredictor_fine_grained vs others"
      ]
    },
    {
      "cell_type": "code",
      "execution_count": 209,
      "metadata": {
        "colab": {
          "base_uri": "https://localhost:8080/"
        },
        "id": "3f9YoxNOBJ1B",
        "outputId": "d345c85f-55d7-4503-dab9-b1a74c5f678c"
      },
      "outputs": [
        {
          "data": {
            "text/plain": [
              "WilcoxonResult(statistic=103.5, pvalue=2.2850541141512903e-25)"
            ]
          },
          "execution_count": 209,
          "metadata": {},
          "output_type": "execute_result"
        }
      ],
      "source": [
        "stats.wilcoxon(so_snippets_df[so_snippets_df['predictor'] == 'AsIs']['covered_lines_percentage'], so_snippets_df[so_snippets_df['predictor'] == 'CodeT5ValuePredictor_fine_grained']['covered_lines_percentage'])"
      ]
    },
    {
      "cell_type": "code",
      "execution_count": 210,
      "metadata": {
        "colab": {
          "base_uri": "https://localhost:8080/"
        },
        "id": "JTwgeP2_EW8i",
        "outputId": "7734de4a-b180-4b20-a5fc-cef009fe0a27"
      },
      "outputs": [
        {
          "data": {
            "text/plain": [
              "WilcoxonResult(statistic=162.5, pvalue=5.221743397796789e-22)"
            ]
          },
          "execution_count": 210,
          "metadata": {},
          "output_type": "execute_result"
        }
      ],
      "source": [
        "stats.wilcoxon(so_snippets_df[so_snippets_df['predictor'] == 'NaiveValuePredictor']['covered_lines_percentage'], so_snippets_df[so_snippets_df['predictor'] == 'CodeT5ValuePredictor_fine_grained']['covered_lines_percentage'])"
      ]
    },
    {
      "cell_type": "code",
      "execution_count": 211,
      "metadata": {
        "colab": {
          "base_uri": "https://localhost:8080/"
        },
        "id": "Poxr2NFlEXEL",
        "outputId": "c7f47881-fb96-4b95-f7f8-aed1e491b282"
      },
      "outputs": [
        {
          "data": {
            "text/plain": [
              "WilcoxonResult(statistic=170.5, pvalue=4.213696075239535e-22)"
            ]
          },
          "execution_count": 211,
          "metadata": {},
          "output_type": "execute_result"
        }
      ],
      "source": [
        "stats.wilcoxon(so_snippets_df[so_snippets_df['predictor'] == 'FrequencyValuePredictor']['covered_lines_percentage'], so_snippets_df[so_snippets_df['predictor'] == 'CodeT5ValuePredictor_fine_grained']['covered_lines_percentage'])"
      ]
    },
    {
      "cell_type": "code",
      "execution_count": 212,
      "metadata": {
        "colab": {
          "base_uri": "https://localhost:8080/"
        },
        "id": "ZlnI0KeREXLH",
        "outputId": "aeadb644-6543-4490-b29b-c6e9f0918dd1"
      },
      "outputs": [
        {
          "data": {
            "text/plain": [
              "WilcoxonResult(statistic=9569.5, pvalue=8.913442560903327e-13)"
            ]
          },
          "execution_count": 212,
          "metadata": {},
          "output_type": "execute_result"
        }
      ],
      "source": [
        "stats.wilcoxon(so_snippets_df[so_snippets_df['predictor'] == 'RandomPredictor']['covered_lines_percentage'], so_snippets_df[so_snippets_df['predictor'] == 'CodeT5ValuePredictor_fine_grained']['covered_lines_percentage'])"
      ]
    }
  ],
  "metadata": {
    "colab": {
      "provenance": []
    },
    "kernelspec": {
      "display_name": "Python 3",
      "name": "python3"
    },
    "language_info": {
      "name": "python"
    }
  },
  "nbformat": 4,
  "nbformat_minor": 0
}
